{
 "cells": [
  {
   "cell_type": "markdown",
   "id": "6b7a101c",
   "metadata": {},
   "source": [
    "# An example of an optimal pruning based routing algorithm\n",
    "- based on a simple graph and Dijkstra's algorithm with concave cost function\n",
    "- Create a simple graph with multiple edge's attributes¶\n",
    "    - weight = w_ij\n",
    "    - concave = c_ij where i,j is nodes"
   ]
  },
  {
   "cell_type": "code",
   "execution_count": 1,
   "id": "5b31c249",
   "metadata": {},
   "outputs": [],
   "source": [
    "import networkx as nx\n",
    "import matplotlib.pyplot as plt"
   ]
  },
  {
   "cell_type": "markdown",
   "id": "7baeefdf",
   "metadata": {},
   "source": [
    "## Create a simple graph"
   ]
  },
  {
   "cell_type": "code",
   "execution_count": 2,
   "id": "3b37db2f",
   "metadata": {},
   "outputs": [],
   "source": [
    "def add_multi_link_attributes(G,attr1,attr2):\n",
    "    \"\"\"\n",
    "    This funtion is to add the multiple link attributes to graph G\n",
    "    input: G : graph\n",
    "            attr1 : link attribute 1\n",
    "            attr2 : link attribute 2\n",
    "    output : G\n",
    "    \"\"\"\n",
    "    i = 0\n",
    "    for (u, v) in G.edges():\n",
    "        G.add_edge(u,v,w=attr1[i],c=attr2[i])\n",
    "        i = i+1 \n",
    "    return G\n"
   ]
  },
  {
   "cell_type": "code",
   "execution_count": 3,
   "id": "52c08555",
   "metadata": {},
   "outputs": [],
   "source": [
    "def draw_graph(G,pos):\n",
    "    \"\"\"\n",
    "    This function is to draw a graph with the fixed position\n",
    "    input : G : graph\n",
    "            pos: postions of all nodes with the dictionary of coordinates (x,y)\n",
    "    \"\"\"\n",
    "    edge_labels = {}  ## add edge lables from edge attribute\n",
    "    for u, v, data in G.edges(data=True):\n",
    "        edge_labels[u, v] = data\n",
    "\n",
    "    nx.draw_networkx(G,pos)\n",
    "    nx.draw_networkx_edge_labels(G,pos,edge_labels=edge_labels)"
   ]
  },
  {
   "cell_type": "code",
   "execution_count": 4,
   "id": "2a9e5793",
   "metadata": {},
   "outputs": [],
   "source": [
    "def remove_Edge(G,rm_edge_list):\n",
    "    \"\"\"\n",
    "    This function is to remove edges in the rm_edge_list from G\n",
    "    \"\"\"\n",
    "    G.remove_edges_from(rm_edge_list)\n",
    "    G.edges()\n",
    "    return G\n",
    "    "
   ]
  },
  {
   "cell_type": "code",
   "execution_count": 5,
   "id": "7724e199",
   "metadata": {},
   "outputs": [],
   "source": [
    "def compare_path(path1,path2):\n",
    "    \n",
    "    if collections.Counter(path1) == collections.Counter(path2):\n",
    "        print (\"The lists l1 and l2 are the same\") \n",
    "        flag = True\n",
    "    else: \n",
    "        print (\"The lists l1 and l2 are not the same\") \n",
    "        flag = False\n",
    "    return flag"
   ]
  },
  {
   "cell_type": "code",
   "execution_count": 6,
   "id": "dcfcc4b6",
   "metadata": {},
   "outputs": [],
   "source": [
    "def additive_path_cost(G, path, attr):\n",
    "    \"\"\"\n",
    "    This function is to find the path cost based on the additive costs\n",
    "    : Path_Cost = sum_{edges in the path}attr[edge]\n",
    "    Input : G : graph\n",
    "            path : path is a list of nodes in the path\n",
    "            attr : attribute of edges\n",
    "    output : path_cost\n",
    "    \"\"\"\n",
    "    return sum([G[path[i]][path[i+1]][attr] for i in range(len(path)-1)])"
   ]
  },
  {
   "cell_type": "code",
   "execution_count": 7,
   "id": "747b408b",
   "metadata": {},
   "outputs": [],
   "source": [
    "## Calculate concave path cost from attr\n",
    "def max_path_cost(G, path, attr):\n",
    "    \"\"\"\n",
    "    This function is to find the path cost based on the additive costs\n",
    "    : Path_Cost = max{edges in the path}attr[edge]\n",
    "    Input : G : graph\n",
    "            path : path is a list of nodes in the path\n",
    "            attr : attribute of edges\n",
    "    output : path_cost\n",
    "    \"\"\"\n",
    "    return max([G[path[i]][path[i+1]][attr] for i in range(len(path)-1)])"
   ]
  },
  {
   "cell_type": "code",
   "execution_count": 8,
   "id": "c2ae8e24",
   "metadata": {},
   "outputs": [],
   "source": [
    "def rm_edge_constraint(G,Cons):\n",
    "    rm_edge_list = []\n",
    "    for u, v, data in G.edges(data=True):\n",
    "        e = (u,v)\n",
    "        cost = G.get_edge_data(*e)\n",
    "        print(cost)\n",
    "        if cost['c'] >= Cons:\n",
    "            rm_edge_list.append(e)\n",
    "            print(rm_edge_list)\n",
    "    \n",
    "    remove_Edge(G,rm_edge_list)\n",
    "\n",
    "    return G"
   ]
  },
  {
   "cell_type": "code",
   "execution_count": 9,
   "id": "df2568b9",
   "metadata": {},
   "outputs": [],
   "source": [
    "def has_path(G, source, target):\n",
    "    \"\"\"Return True if G has a path from source to target, False otherwise.\n",
    "\n",
    "    Parameters\n",
    "    ----------\n",
    "    G : NetworkX graph\n",
    "\n",
    "    source : node\n",
    "       Starting node for path\n",
    "\n",
    "    target : node\n",
    "       Ending node for path\n",
    "    \"\"\"\n",
    "    try:\n",
    "        sp = nx.shortest_path(G,source, target)\n",
    "    except nx.NetworkXNoPath:\n",
    "        return False\n",
    "    return True\n"
   ]
  },
  {
   "cell_type": "code",
   "execution_count": 10,
   "id": "55445c8d",
   "metadata": {},
   "outputs": [],
   "source": [
    "def Optimum_prun_based_routing(G,S,D,L):\n",
    "    \"\"\"\n",
    "    This function is to find the optimal path from S to D with constraint L \n",
    "    Input : G : graph\n",
    "            S : Source\n",
    "            D : Destination\n",
    "            L : constraint\n",
    "    \"\"\"\n",
    "    if has_path(G, S, D):\n",
    "        \n",
    "        Shortest_path = nx.dijkstra_path(G, S, D, weight='w')\n",
    "        Opt_path = Shortest_path\n",
    "        while len(Shortest_path) != 0:\n",
    "            path_cost = additive_path_cost(G, Shortest_path, 'w') \n",
    "            print(path_cost)\n",
    "            if path_cost <= L:\n",
    "                \"\"\"go to concave cost\"\"\"\n",
    "                PathConcave_cost  = max_path_cost(G, Shortest_path, 'c')\n",
    "                G = rm_edge_constraint(G,PathConcave_cost) # remove all links where the concave link is greater than PathConcave_cost\n",
    "            \n",
    "                Opt_path = Shortest_path\n",
    "                if has_path(G, S, D):\n",
    "                    Shortest_path = nx.dijkstra_path(G, S, D, weight='w')\n",
    "                else:\n",
    "                    Shortest_path = []\n",
    "            \n",
    "            else:\n",
    "                pass \n",
    "    else:\n",
    "        print('No path from', S, ' to ', D)\n",
    "        Opt_path = []\n",
    "    return Opt_path\n",
    "        \n",
    "        \n",
    "        "
   ]
  },
  {
   "cell_type": "code",
   "execution_count": 11,
   "id": "516b476c",
   "metadata": {},
   "outputs": [
    {
     "data": {
      "image/png": "[encoded data removed]",
      "text/plain": [
       "<Figure size 432x288 with 1 Axes>"
      ]
     },
     "metadata": {},
     "output_type": "display_data"
    }
   ],
   "source": [
    "G = nx.Graph()\n",
    "edge_list = [('S', 'B'), ('S', 'A'), ('S','E'), ('B','A'), ('B','D'), ('A','D'), ('E','D')]\n",
    "Weight_edge_list = [2, 2, 3, 2, 1, 2, 2]\n",
    "Concave_edge_list = [1, 3, 3, 1, 4, 3, 1]\n",
    "pos = { 'S': (0,50), 'B': (50, 100), 'A': (50, 50), 'E': (50, 0), 'D': (100, 50)} # draw by position\n",
    "\n",
    "G.add_edges_from(edge_list)\n",
    "G = add_multi_link_attributes(G,Weight_edge_list,Concave_edge_list)\n",
    "draw_graph(G,pos)\n"
   ]
  },
  {
   "cell_type": "code",
   "execution_count": 12,
   "id": "ae07d1a7",
   "metadata": {},
   "outputs": [
    {
     "name": "stdout",
     "output_type": "stream",
     "text": [
      "3\n",
      "{'w': 2, 'c': 1}\n",
      "{'w': 2, 'c': 3}\n",
      "{'w': 3, 'c': 3}\n",
      "{'w': 2, 'c': 1}\n",
      "{'w': 1, 'c': 4}\n",
      "[('B', 'D')]\n",
      "{'w': 2, 'c': 3}\n",
      "{'w': 2, 'c': 1}\n",
      "4\n",
      "{'w': 2, 'c': 1}\n",
      "{'w': 2, 'c': 3}\n",
      "[('S', 'A')]\n",
      "{'w': 3, 'c': 3}\n",
      "[('S', 'A'), ('S', 'E')]\n",
      "{'w': 2, 'c': 1}\n",
      "{'w': 2, 'c': 3}\n",
      "[('S', 'A'), ('S', 'E'), ('A', 'D')]\n",
      "{'w': 2, 'c': 1}\n"
     ]
    },
    {
     "data": {
      "text/plain": [
       "['S', 'A', 'D']"
      ]
     },
     "execution_count": 12,
     "metadata": {},
     "output_type": "execute_result"
    }
   ],
   "source": [
    "Optimum_prun_based_routing(G,'S','D',5)"
   ]
  }
 ],
 "metadata": {
  "kernelspec": {
   "display_name": "Python 3",
   "language": "python",
   "name": "python3"
  },
  "language_info": {
   "codemirror_mode": {
    "name": "ipython",
    "version": 3
   },
   "file_extension": ".py",
   "mimetype": "text/x-python",
   "name": "python",
   "nbconvert_exporter": "python",
   "pygments_lexer": "ipython3",
   "version": "3.7.7"
  }
 },
 "nbformat": 4,
 "nbformat_minor": 5
}
