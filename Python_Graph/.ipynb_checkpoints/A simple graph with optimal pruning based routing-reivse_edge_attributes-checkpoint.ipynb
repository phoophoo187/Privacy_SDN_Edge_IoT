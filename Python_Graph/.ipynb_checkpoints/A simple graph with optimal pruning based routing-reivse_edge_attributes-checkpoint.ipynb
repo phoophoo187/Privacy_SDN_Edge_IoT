{
 "cells": [
  {
   "cell_type": "markdown",
   "id": "8c96b4a3",
   "metadata": {},
   "source": [
    "# An example of an optimal pruning based routing algorithm\n",
    "- based on a simple graph and Dijkstra's algorithm with concave cost function\n",
    "- Create a simple graph with multiple edge's attributes\n",
    "    - weight = w_ij\n",
    "    - concave = c_ij where i,j is nodes\n",
    "- Use a dictionary for edge attributes"
   ]
  },
  {
   "cell_type": "code",
   "execution_count": 1,
   "id": "23356f51",
   "metadata": {},
   "outputs": [],
   "source": [
    "import networkx as nx\n",
    "import matplotlib.pyplot as plt"
   ]
  },
  {
   "cell_type": "markdown",
   "id": "3ec35bcd",
   "metadata": {},
   "source": [
    "## Define functions"
   ]
  },
  {
   "cell_type": "code",
   "execution_count": 2,
   "id": "36366866",
   "metadata": {},
   "outputs": [],
   "source": [
    "def add_multi_link_attributes(G,attr1,attr2):\n",
    "    \"\"\"\n",
    "    This funtion is to add the multiple link attributes to graph G\n",
    "    input: G : graph\n",
    "            attr1 : link attribute 1\n",
    "            attr2 : link attribute 2\n",
    "    output : G\n",
    "    \"\"\"\n",
    "    i = 0\n",
    "    for (u, v) in G.edges():\n",
    "        G.add_edge(u,v,w=attr1[i],c=attr2[i])\n",
    "        i = i+1 \n",
    "        print(G.edges())\n",
    "    return G\n"
   ]
  },
  {
   "cell_type": "code",
   "execution_count": 3,
   "id": "c27099da",
   "metadata": {},
   "outputs": [],
   "source": [
    "\n",
    "def add_node_cost(G,dict_attr, attr_name):\n",
    "    \"\"\"\n",
    "    This function is to add a node cost (e.g., CPU utilization) from a dictionary of node attributes\n",
    "    input : G : graph\n",
    "            dict_attr : node attribute e.g., dictionary = {1:'a', 2:'b', 3:'c', 4:'d'}\n",
    "            attr_name : 'cpu_util'\n",
    "    \"\"\"\n",
    "    \n",
    "    G.add_nodes_from(dict_attr.keys())\n",
    "    for key,n in G.nodes.items():\n",
    "       n[attr_name]=dict_attr[key]\n",
    "    \n",
    "    return G"
   ]
  },
  {
   "cell_type": "code",
   "execution_count": 4,
   "id": "10c71dbd",
   "metadata": {},
   "outputs": [],
   "source": [
    "def add_dict_link_attributes(G,dict_attr1,attr_name1):\n",
    "    \"\"\"\n",
    "    This funtion is to add the multiple link attributes to graph G from the dictionary\n",
    "    \n",
    "    dict_attr1 = {('edge1', 'superedge'): 1, ('edge2', 'superedge'): 1, \n",
    "        ('edge3', 'superedge'): 1, ('edge1', 'edge2'): 1, ('edge2', 'edge3'): 1, \n",
    "        ('edge4', 'edge1'):1, ('edge5', 'edge2'):1, ('edge6', 'edge3'):1, \n",
    "        ('edge4', 'edge5'):1, ('edge5', 'edge6'):1}\n",
    "        \n",
    "    attr_name1 = 'concave'\n",
    "    \"\"\"\n",
    "    for key,n in G.edges.items():\n",
    "        if key in link_concave_edge_dict:\n",
    "            n[attr_name1]=link_concave_edge_dict[key]\n",
    "        else:\n",
    "            new_key = (key[1],key[0])\n",
    "       \n",
    "            n[attr_name1]=link_concave_edge_dict[new_key]\n",
    "    return G\n",
    "        \n",
    "    "
   ]
  },
  {
   "cell_type": "code",
   "execution_count": 5,
   "id": "abaa277f",
   "metadata": {},
   "outputs": [],
   "source": [
    "def draw_graph(G,pos):\n",
    "    \"\"\"\n",
    "    This function is to draw a graph with the fixed position\n",
    "    input : G : graph\n",
    "            pos: postions of all nodes with the dictionary of coordinates (x,y)\n",
    "    \"\"\"\n",
    "    edge_labels = {}  ## add edge lables from edge attribute\n",
    "    for u, v, data in G.edges(data=True):\n",
    "        edge_labels[u, v] = data\n",
    "\n",
    "    nx.draw_networkx(G,pos)\n",
    "    nx.draw_networkx_edge_labels(G,pos,edge_labels=edge_labels)"
   ]
  },
  {
   "cell_type": "code",
   "execution_count": 6,
   "id": "2ad6c24e",
   "metadata": {},
   "outputs": [],
   "source": [
    "def remove_Edge(G,rm_edge_list):\n",
    "    \"\"\"\n",
    "    This function is to remove edges in the rm_edge_list from G\n",
    "    \"\"\"\n",
    "    G.remove_edges_from(rm_edge_list)\n",
    "    G.edges()\n",
    "    return G\n",
    "    "
   ]
  },
  {
   "cell_type": "code",
   "execution_count": 7,
   "id": "b14b8b13",
   "metadata": {},
   "outputs": [],
   "source": [
    "def compare_path(path1,path2):\n",
    "    \n",
    "    if collections.Counter(path1) == collections.Counter(path2):\n",
    "        print (\"The lists l1 and l2 are the same\") \n",
    "        flag = True\n",
    "    else: \n",
    "        print (\"The lists l1 and l2 are not the same\") \n",
    "        flag = False\n",
    "    return flag"
   ]
  },
  {
   "cell_type": "code",
   "execution_count": 8,
   "id": "4dd369c2",
   "metadata": {},
   "outputs": [],
   "source": [
    "def additive_path_cost(G, path, attr):\n",
    "    \"\"\"\n",
    "    This function is to find the path cost based on the additive costs\n",
    "    : Path_Cost = sum_{edges in the path}attr[edge]\n",
    "    Input : G : graph\n",
    "            path : path is a list of nodes in the path\n",
    "            attr : attribute of edges\n",
    "    output : path_cost\n",
    "    \"\"\"\n",
    "    return sum([G[path[i]][path[i+1]][attr] for i in range(len(path)-1)])"
   ]
  },
  {
   "cell_type": "code",
   "execution_count": 9,
   "id": "a52805fd",
   "metadata": {},
   "outputs": [],
   "source": [
    "## Calculate concave path cost from attr\n",
    "def max_path_cost(G, path, attr):\n",
    "    \"\"\"\n",
    "    This function is to find the path cost based on the Concave costs\n",
    "    : Path_Cost = max{edges in the path}attr[edge]\n",
    "    Input : G : graph\n",
    "            path : path is a list of nodes in the path\n",
    "            attr : attribute of edges\n",
    "    output : path_cost\n",
    "    \"\"\"\n",
    "    return max([G[path[i]][path[i+1]][attr] for i in range(len(path)-1)])"
   ]
  },
  {
   "cell_type": "code",
   "execution_count": 10,
   "id": "6f1ed1f4",
   "metadata": {},
   "outputs": [],
   "source": [
    "def rm_edge_constraint(G,Cons):\n",
    "    rm_edge_list = []\n",
    "    for u, v, data in G.edges(data=True):\n",
    "        e = (u,v)\n",
    "        cost = G.get_edge_data(*e)\n",
    "        print(cost)\n",
    "        if cost['c'] >= Cons:\n",
    "            rm_edge_list.append(e)\n",
    "            print(rm_edge_list)\n",
    "    \n",
    "    remove_Edge(G,rm_edge_list)\n",
    "\n",
    "    return G"
   ]
  },
  {
   "cell_type": "code",
   "execution_count": 11,
   "id": "03a2ef5c",
   "metadata": {},
   "outputs": [],
   "source": [
    "def has_path(G, source, target):\n",
    "    \"\"\"Return True if G has a path from source to target, False otherwise.\n",
    "\n",
    "    Parameters\n",
    "    ----------\n",
    "    G : NetworkX graph\n",
    "\n",
    "    source : node\n",
    "       Starting node for path\n",
    "\n",
    "    target : node\n",
    "       Ending node for path\n",
    "    \"\"\"\n",
    "    try:\n",
    "        sp = nx.shortest_path(G,source, target)\n",
    "    except nx.NetworkXNoPath:\n",
    "        return False\n",
    "    return True\n"
   ]
  },
  {
   "cell_type": "code",
   "execution_count": 12,
   "id": "b3227006",
   "metadata": {},
   "outputs": [],
   "source": [
    "def Optimum_prun_based_routing(G,S,D,L):\n",
    "    \"\"\"\n",
    "    This function is to find the optimal path from S to D with constraint L \n",
    "    Input : G : graph\n",
    "            S : Source\n",
    "            D : Destination\n",
    "            L : constraint\n",
    "    \"\"\"\n",
    "    if has_path(G, S, D):\n",
    "        \n",
    "        Shortest_path = nx.dijkstra_path(G, S, D, weight='w')\n",
    "        Opt_path = Shortest_path\n",
    "        while len(Shortest_path) != 0:\n",
    "            path_cost = additive_path_cost(G, Shortest_path, 'w') \n",
    "            print(path_cost)\n",
    "            if path_cost <= L:\n",
    "                \"\"\"go to concave cost\"\"\"\n",
    "                PathConcave_cost  = max_path_cost(G, Shortest_path, 'c')\n",
    "                G = rm_edge_constraint(G,PathConcave_cost) # remove all links where the concave link is greater than PathConcave_cost\n",
    "            \n",
    "                Opt_path = Shortest_path\n",
    "                if has_path(G, S, D):\n",
    "                    Shortest_path = nx.dijkstra_path(G, S, D, weight='w')\n",
    "                else:\n",
    "                    Shortest_path = []\n",
    "            \n",
    "            else:\n",
    "                pass \n",
    "    else:\n",
    "        print('No path from', S, ' to ', D)\n",
    "        Opt_path = []\n",
    "    return Opt_path\n",
    "        \n",
    "        \n",
    "        "
   ]
  },
  {
   "cell_type": "markdown",
   "id": "226aea32",
   "metadata": {},
   "source": [
    "## Create a graph"
   ]
  },
  {
   "cell_type": "code",
   "execution_count": 13,
   "id": "e3187a94",
   "metadata": {},
   "outputs": [
    {
     "name": "stdout",
     "output_type": "stream",
     "text": [
      "[('S', 'B'), ('S', 'A'), ('S', 'E'), ('B', 'A'), ('B', 'D'), ('A', 'D'), ('E', 'D')]\n",
      "[('S', 'B'), ('S', 'A'), ('S', 'E'), ('B', 'A'), ('B', 'D'), ('A', 'D'), ('E', 'D')]\n",
      "[('S', 'B'), ('S', 'A'), ('S', 'E'), ('B', 'A'), ('B', 'D'), ('A', 'D'), ('E', 'D')]\n",
      "[('S', 'B'), ('S', 'A'), ('S', 'E'), ('B', 'A'), ('B', 'D'), ('A', 'D'), ('E', 'D')]\n",
      "[('S', 'B'), ('S', 'A'), ('S', 'E'), ('B', 'A'), ('B', 'D'), ('A', 'D'), ('E', 'D')]\n",
      "[('S', 'B'), ('S', 'A'), ('S', 'E'), ('B', 'A'), ('B', 'D'), ('A', 'D'), ('E', 'D')]\n",
      "[('S', 'B'), ('S', 'A'), ('S', 'E'), ('B', 'A'), ('B', 'D'), ('A', 'D'), ('E', 'D')]\n"
     ]
    },
    {
     "data": {
      "image/png": "[encoded data removed]",
      "text/plain": [
       "<Figure size 432x288 with 1 Axes>"
      ]
     },
     "metadata": {},
     "output_type": "display_data"
    }
   ],
   "source": [
    "G = nx.Graph()\n",
    "edge_list = [('S', 'B'), ('S', 'A'), ('S','E'), ('B','A'), ('B','D'), ('A','D'), ('E','D')]\n",
    "Weight_edge_list = [2, 2, 3, 2, 1, 2, 2]\n",
    "Concave_edge_list = [1, 3, 3, 1, 4, 3, 1]\n",
    "pos = { 'S': (0,50), 'B': (50, 100), 'A': (50, 50), 'E': (50, 0), 'D': (100, 50)} # draw by position\n",
    "\n",
    "G.add_edges_from(edge_list)\n",
    "G = add_multi_link_attributes(G,Weight_edge_list,Concave_edge_list)\n",
    "draw_graph(G,pos)\n"
   ]
  },
  {
   "cell_type": "markdown",
   "id": "ce173291",
   "metadata": {},
   "source": [
    "## Run the optimum-pruning-based-routing algorithm"
   ]
  },
  {
   "cell_type": "code",
   "execution_count": 14,
   "id": "68c67d22",
   "metadata": {},
   "outputs": [
    {
     "name": "stdout",
     "output_type": "stream",
     "text": [
      "3\n",
      "{'w': 2, 'c': 1}\n",
      "{'w': 2, 'c': 3}\n",
      "{'w': 3, 'c': 3}\n",
      "{'w': 2, 'c': 1}\n",
      "{'w': 1, 'c': 4}\n",
      "[('B', 'D')]\n",
      "{'w': 2, 'c': 3}\n",
      "{'w': 2, 'c': 1}\n",
      "4\n",
      "{'w': 2, 'c': 1}\n",
      "{'w': 2, 'c': 3}\n",
      "[('S', 'A')]\n",
      "{'w': 3, 'c': 3}\n",
      "[('S', 'A'), ('S', 'E')]\n",
      "{'w': 2, 'c': 1}\n",
      "{'w': 2, 'c': 3}\n",
      "[('S', 'A'), ('S', 'E'), ('A', 'D')]\n",
      "{'w': 2, 'c': 1}\n"
     ]
    },
    {
     "data": {
      "text/plain": [
       "['S', 'A', 'D']"
      ]
     },
     "execution_count": 14,
     "metadata": {},
     "output_type": "execute_result"
    }
   ],
   "source": [
    "Optimum_prun_based_routing(G,'S','D',5)"
   ]
  },
  {
   "cell_type": "code",
   "execution_count": 15,
   "id": "dcc44314",
   "metadata": {},
   "outputs": [
    {
     "name": "stdout",
     "output_type": "stream",
     "text": [
      "[('edge1', 'superedge'), ('edge1', 'edge2'), ('edge1', 'edge4'), ('superedge', 'edge2'), ('superedge', 'edge3'), ('edge2', 'edge3'), ('edge2', 'edge5'), ('edge3', 'edge6'), ('edge4', 'edge5'), ('edge5', 'edge6')]\n",
      "[('edge1', 'superedge'), ('edge1', 'edge2'), ('edge1', 'edge4'), ('superedge', 'edge2'), ('superedge', 'edge3'), ('edge2', 'edge3'), ('edge2', 'edge5'), ('edge3', 'edge6'), ('edge4', 'edge5'), ('edge5', 'edge6')]\n",
      "[('edge1', 'superedge'), ('edge1', 'edge2'), ('edge1', 'edge4'), ('superedge', 'edge2'), ('superedge', 'edge3'), ('edge2', 'edge3'), ('edge2', 'edge5'), ('edge3', 'edge6'), ('edge4', 'edge5'), ('edge5', 'edge6')]\n",
      "[('edge1', 'superedge'), ('edge1', 'edge2'), ('edge1', 'edge4'), ('superedge', 'edge2'), ('superedge', 'edge3'), ('edge2', 'edge3'), ('edge2', 'edge5'), ('edge3', 'edge6'), ('edge4', 'edge5'), ('edge5', 'edge6')]\n",
      "[('edge1', 'superedge'), ('edge1', 'edge2'), ('edge1', 'edge4'), ('superedge', 'edge2'), ('superedge', 'edge3'), ('edge2', 'edge3'), ('edge2', 'edge5'), ('edge3', 'edge6'), ('edge4', 'edge5'), ('edge5', 'edge6')]\n",
      "[('edge1', 'superedge'), ('edge1', 'edge2'), ('edge1', 'edge4'), ('superedge', 'edge2'), ('superedge', 'edge3'), ('edge2', 'edge3'), ('edge2', 'edge5'), ('edge3', 'edge6'), ('edge4', 'edge5'), ('edge5', 'edge6')]\n",
      "[('edge1', 'superedge'), ('edge1', 'edge2'), ('edge1', 'edge4'), ('superedge', 'edge2'), ('superedge', 'edge3'), ('edge2', 'edge3'), ('edge2', 'edge5'), ('edge3', 'edge6'), ('edge4', 'edge5'), ('edge5', 'edge6')]\n",
      "[('edge1', 'superedge'), ('edge1', 'edge2'), ('edge1', 'edge4'), ('superedge', 'edge2'), ('superedge', 'edge3'), ('edge2', 'edge3'), ('edge2', 'edge5'), ('edge3', 'edge6'), ('edge4', 'edge5'), ('edge5', 'edge6')]\n",
      "[('edge1', 'superedge'), ('edge1', 'edge2'), ('edge1', 'edge4'), ('superedge', 'edge2'), ('superedge', 'edge3'), ('edge2', 'edge3'), ('edge2', 'edge5'), ('edge3', 'edge6'), ('edge4', 'edge5'), ('edge5', 'edge6')]\n",
      "[('edge1', 'superedge'), ('edge1', 'edge2'), ('edge1', 'edge4'), ('superedge', 'edge2'), ('superedge', 'edge3'), ('edge2', 'edge3'), ('edge2', 'edge5'), ('edge3', 'edge6'), ('edge4', 'edge5'), ('edge5', 'edge6')]\n"
     ]
    },
    {
     "data": {
      "image/png": "[encoded data removed]",
      "text/plain": [
       "<Figure size 432x288 with 1 Axes>"
      ]
     },
     "metadata": {},
     "output_type": "display_data"
    }
   ],
   "source": [
    "G = nx.Graph()\n",
    "edge_list = [('edge1', 'superedge'), ('edge2', 'superedge'), \n",
    "                    ('edge3', 'superedge'), ('edge1', 'edge2'), ('edge2', 'edge3'), \n",
    "                    ('edge4', 'edge1'), ('edge5', 'edge2'), ('edge6', 'edge3'), \n",
    "                    ('edge4', 'edge5'), ('edge5', 'edge6')]\n",
    "pos = {'superedge': (50, 100), 'edge1': (0, 50), 'edge2': (50, 50), 'edge3': (100,50), 'edge4': (0, 0), 'edge5': (50, 0), 'edge6': (100, 0)}\n",
    "Weight_edge_list = [2, 2, 3, 2, 1, 2, 2, 3, 1, 2]\n",
    "Concave_edge_list = [1, 3, 3, 1, 4, 3, 1, 1, 2, 3] \n",
    "CPU_edge_list = [2, 1, 2, 2, 2, 3, 4, 4, 1, 1] \n",
    "\n",
    "G.add_edges_from(edge_list)\n",
    "G = add_multi_link_attributes(G,Weight_edge_list,Concave_edge_list)\n",
    "draw_graph(G,pos)\n"
   ]
  },
  {
   "cell_type": "code",
   "execution_count": 16,
   "id": "5163bf35",
   "metadata": {},
   "outputs": [
    {
     "name": "stdout",
     "output_type": "stream",
     "text": [
      "1\n",
      "{'w': 2, 'c': 1}\n",
      "{'w': 2, 'c': 3}\n",
      "{'w': 3, 'c': 3}\n",
      "{'w': 2, 'c': 1}\n",
      "{'w': 1, 'c': 4}\n",
      "[('superedge', 'edge3')]\n",
      "{'w': 2, 'c': 3}\n",
      "{'w': 2, 'c': 1}\n",
      "{'w': 3, 'c': 1}\n",
      "{'w': 1, 'c': 2}\n",
      "{'w': 2, 'c': 3}\n",
      "4\n",
      "{'w': 2, 'c': 1}\n",
      "{'w': 2, 'c': 3}\n",
      "[('edge1', 'edge2')]\n",
      "{'w': 3, 'c': 3}\n",
      "[('edge1', 'edge2'), ('edge1', 'edge4')]\n",
      "{'w': 2, 'c': 1}\n",
      "{'w': 2, 'c': 3}\n",
      "[('edge1', 'edge2'), ('edge1', 'edge4'), ('edge2', 'edge3')]\n",
      "{'w': 2, 'c': 1}\n",
      "{'w': 3, 'c': 1}\n",
      "{'w': 1, 'c': 2}\n",
      "{'w': 2, 'c': 3}\n",
      "[('edge1', 'edge2'), ('edge1', 'edge4'), ('edge2', 'edge3'), ('edge5', 'edge6')]\n"
     ]
    },
    {
     "data": {
      "text/plain": [
       "['edge3', 'edge2', 'superedge']"
      ]
     },
     "execution_count": 16,
     "metadata": {},
     "output_type": "execute_result"
    }
   ],
   "source": [
    "Optimum_prun_based_routing(G,'edge3','superedge',5)"
   ]
  },
  {
   "cell_type": "code",
   "execution_count": 17,
   "id": "892d3428",
   "metadata": {},
   "outputs": [],
   "source": [
    "G = nx.Graph()\n",
    "edge_list = [('edge1', 'superedge'), ('edge2', 'superedge'), \n",
    "                    ('edge3', 'superedge'), ('edge1', 'edge2'), ('edge2', 'edge3'), \n",
    "                    ('edge4', 'edge1'), ('edge5', 'edge2'), ('edge6', 'edge3'), \n",
    "                    ('edge4', 'edge5'), ('edge5', 'edge6')]\n",
    "\n",
    "link_weight_list =[('edge1', 'superedge', 1), ('edge2', 'superedge', 1), \n",
    "        ('edge3', 'superedge', 1), ('edge1', 'edge2', 1), ('edge2', 'edge3', 1), \n",
    "        ('edge4', 'edge1',1), ('edge5', 'edge2',1), ('edge6', 'edge3',1), \n",
    "        ('edge4', 'edge5',1), ('edge5', 'edge6',1)]\n",
    "link_weight_edge_dict = {('edge1', 'superedge'): 1, ('edge2', 'superedge'): 1, \n",
    "        ('edge3', 'superedge'): 1, ('edge1', 'edge2'): 1, ('edge2', 'edge3'): 1, \n",
    "        ('edge4', 'edge1'):1, ('edge5', 'edge2'):1, ('edge6', 'edge3'):1, \n",
    "        ('edge4', 'edge5'):1, ('edge5', 'edge6'):1}\n",
    "\n",
    "\n",
    "link_concave_edge_dict = {('edge1', 'superedge'): 1, ('edge2', 'superedge'): 3, \n",
    "        ('edge3', 'superedge'): 3, ('edge1', 'edge2'): 1, ('edge2', 'edge3'): 4, \n",
    "        ('edge4', 'edge1'):3, ('edge5', 'edge2'):1, ('edge6', 'edge3'):1, \n",
    "        ('edge4', 'edge5'):2, ('edge5', 'edge6'):3} \n",
    "\n",
    "\n",
    "node_cpu_dict = {'superedge':6,'edge1':2,'edge2':1,'edge3':2,'edge4':3,'edge5':4,'edge6':3}\n",
    "\n",
    "pos = {'superedge': (50, 100), 'edge1': (0, 50), 'edge2': (50, 50), 'edge3': (100,50), 'edge4': (0, 0), 'edge5': (50, 0), 'edge6': (100, 0)}\n",
    "\n",
    "G.add_edges_from(edge_list)\n",
    "#G.add_weighted_edges_from(link_weight_list)\n",
    "\n"
   ]
  },
  {
   "cell_type": "code",
   "execution_count": 18,
   "id": "18873de3",
   "metadata": {},
   "outputs": [],
   "source": [
    "attr_name = 'cpu_util'\n",
    "G = add_node_cost(G,node_cpu_dict, attr_name)"
   ]
  },
  {
   "cell_type": "code",
   "execution_count": 19,
   "id": "8ecb8202",
   "metadata": {},
   "outputs": [],
   "source": [
    "attr_name1 = 'c'\n",
    "G = add_dict_link_attributes(G,link_concave_edge_dict,attr_name1)\n",
    "    "
   ]
  },
  {
   "cell_type": "code",
   "execution_count": 20,
   "id": "e2c1e1fd",
   "metadata": {},
   "outputs": [],
   "source": [
    "attr_name1 = 'w'\n",
    "G = add_dict_link_attributes(G,link_weight_edge_dict,attr_name1)\n",
    "    "
   ]
  },
  {
   "cell_type": "code",
   "execution_count": 21,
   "id": "1afcfdbb",
   "metadata": {},
   "outputs": [
    {
     "data": {
      "image/png": "[encoded data removed]",
      "text/plain": [
       "<Figure size 432x288 with 1 Axes>"
      ]
     },
     "metadata": {},
     "output_type": "display_data"
    }
   ],
   "source": [
    "\n",
    "draw_graph(G,pos)"
   ]
  },
  {
   "cell_type": "code",
   "execution_count": 22,
   "id": "21f2cf59",
   "metadata": {},
   "outputs": [
    {
     "name": "stdout",
     "output_type": "stream",
     "text": [
      "1\n",
      "{'c': 1, 'w': 1}\n",
      "[('edge1', 'superedge')]\n",
      "{'c': 1, 'w': 1}\n",
      "[('edge1', 'superedge'), ('edge1', 'edge2')]\n",
      "{'c': 3, 'w': 3}\n",
      "[('edge1', 'superedge'), ('edge1', 'edge2'), ('edge1', 'edge4')]\n",
      "{'c': 3, 'w': 3}\n",
      "[('edge1', 'superedge'), ('edge1', 'edge2'), ('edge1', 'edge4'), ('superedge', 'edge2')]\n",
      "{'c': 3, 'w': 3}\n",
      "[('edge1', 'superedge'), ('edge1', 'edge2'), ('edge1', 'edge4'), ('superedge', 'edge2'), ('superedge', 'edge3')]\n",
      "{'c': 4, 'w': 4}\n",
      "[('edge1', 'superedge'), ('edge1', 'edge2'), ('edge1', 'edge4'), ('superedge', 'edge2'), ('superedge', 'edge3'), ('edge2', 'edge3')]\n",
      "{'c': 1, 'w': 1}\n",
      "[('edge1', 'superedge'), ('edge1', 'edge2'), ('edge1', 'edge4'), ('superedge', 'edge2'), ('superedge', 'edge3'), ('edge2', 'edge3'), ('edge2', 'edge5')]\n",
      "{'c': 1, 'w': 1}\n",
      "[('edge1', 'superedge'), ('edge1', 'edge2'), ('edge1', 'edge4'), ('superedge', 'edge2'), ('superedge', 'edge3'), ('edge2', 'edge3'), ('edge2', 'edge5'), ('edge3', 'edge6')]\n",
      "{'c': 2, 'w': 2}\n",
      "[('edge1', 'superedge'), ('edge1', 'edge2'), ('edge1', 'edge4'), ('superedge', 'edge2'), ('superedge', 'edge3'), ('edge2', 'edge3'), ('edge2', 'edge5'), ('edge3', 'edge6'), ('edge4', 'edge5')]\n",
      "{'c': 3, 'w': 3}\n",
      "[('edge1', 'superedge'), ('edge1', 'edge2'), ('edge1', 'edge4'), ('superedge', 'edge2'), ('superedge', 'edge3'), ('edge2', 'edge3'), ('edge2', 'edge5'), ('edge3', 'edge6'), ('edge4', 'edge5'), ('edge5', 'edge6')]\n"
     ]
    },
    {
     "data": {
      "text/plain": [
       "['edge1', 'superedge']"
      ]
     },
     "execution_count": 22,
     "metadata": {},
     "output_type": "execute_result"
    }
   ],
   "source": [
    "Optimum_prun_based_routing(G,'edge1','superedge',25)"
   ]
  },
  {
   "cell_type": "code",
   "execution_count": 23,
   "id": "bb92a2bf",
   "metadata": {},
   "outputs": [
    {
     "name": "stdout",
     "output_type": "stream",
     "text": [
      "No path from edge3  to  superedge\n"
     ]
    },
    {
     "data": {
      "text/plain": [
       "[]"
      ]
     },
     "execution_count": 23,
     "metadata": {},
     "output_type": "execute_result"
    }
   ],
   "source": [
    "Optimum_prun_based_routing(G,'edge3','superedge',15)"
   ]
  },
  {
   "cell_type": "code",
   "execution_count": null,
   "id": "417d28d8",
   "metadata": {},
   "outputs": [],
   "source": []
  }
 ],
 "metadata": {
  "kernelspec": {
   "display_name": "Python 3",
   "language": "python",
   "name": "python3"
  },
  "language_info": {
   "codemirror_mode": {
    "name": "ipython",
    "version": 3
   },
   "file_extension": ".py",
   "mimetype": "text/x-python",
   "name": "python",
   "nbconvert_exporter": "python",
   "pygments_lexer": "ipython3",
   "version": "3.7.7"
  }
 },
 "nbformat": 4,
 "nbformat_minor": 5
}
