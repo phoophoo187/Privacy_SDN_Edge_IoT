{
 "cells": [
  {
   "cell_type": "markdown",
   "id": "6886f4b0",
   "metadata": {},
   "source": [
    "# Create a graph based on 6 edge nodes and 1 super edge"
   ]
  },
  {
   "cell_type": "code",
   "execution_count": 1,
   "id": "7eb7b7b4",
   "metadata": {},
   "outputs": [],
   "source": [
    "import networkx as nx\n",
    "import matplotlib.pyplot as plt"
   ]
  },
  {
   "cell_type": "markdown",
   "id": "f2cf955d",
   "metadata": {},
   "source": [
    "## Create Graph"
   ]
  },
  {
   "cell_type": "code",
   "execution_count": 2,
   "id": "12560081",
   "metadata": {},
   "outputs": [],
   "source": [
    "G = nx.Graph()"
   ]
  },
  {
   "cell_type": "markdown",
   "id": "152bacda",
   "metadata": {},
   "source": [
    "## Add edges to graph G and an egde attribute: weight"
   ]
  },
  {
   "cell_type": "code",
   "execution_count": 3,
   "id": "56a72db0",
   "metadata": {},
   "outputs": [],
   "source": [
    "\n",
    "G.add_weighted_edges_from([(0, 1, 1), (0, 2, 1), (0,3,1), (1, 2, 1), (1, 4, 1), (2,3,1), (2,5,1), (3,6,1), (4,5,1),(5,6,1)])\n"
   ]
  },
  {
   "cell_type": "markdown",
   "id": "094b809e",
   "metadata": {},
   "source": [
    "## Plot Graph G with the fixed position"
   ]
  },
  {
   "cell_type": "code",
   "execution_count": 4,
   "id": "a7cc979b",
   "metadata": {},
   "outputs": [
    {
     "data": {
      "text/plain": [
       "{(0, 1): Text(25.0, 20.0, '1'),\n",
       " (0, 2): Text(30.0, 20.0, '1'),\n",
       " (0, 3): Text(35.0, 20.0, '1'),\n",
       " (1, 2): Text(25.0, 30.0, '1'),\n",
       " (1, 4): Text(20.0, 35.0, '1'),\n",
       " (2, 3): Text(35.0, 30.0, '1'),\n",
       " (2, 5): Text(30.0, 35.0, '1'),\n",
       " (3, 6): Text(40.0, 35.0, '1'),\n",
       " (4, 5): Text(25.0, 40.0, '1'),\n",
       " (5, 6): Text(35.0, 40.0, '1')}"
      ]
     },
     "execution_count": 4,
     "metadata": {},
     "output_type": "execute_result"
    },
    {
     "data": {
      "image/png": "[encoded data removed]",
      "text/plain": [
       "<Figure size 432x288 with 1 Axes>"
      ]
     },
     "metadata": {},
     "output_type": "display_data"
    }
   ],
   "source": [
    "pos=nx.spring_layout(G) # pos = nx.nx_agraph.graphviz_layout(G)\n",
    "pos = { 0: (30,10), 1: (20, 30), 2: (30, 30), 3: (40, 30),4: (20, 40), 5: (30,40), 6: (40, 40)} # draw by position\n",
    "\n",
    "nx.draw_networkx(G,pos)\n",
    "labels = nx.get_edge_attributes(G,'weight')\n",
    "nx.draw_networkx_edge_labels(G,pos,edge_labels=labels)"
   ]
  },
  {
   "cell_type": "markdown",
   "id": "1281791d",
   "metadata": {},
   "source": [
    "# Find a shortest path by Dijkstra algorithm"
   ]
  },
  {
   "cell_type": "code",
   "execution_count": 5,
   "id": "41271805",
   "metadata": {},
   "outputs": [
    {
     "name": "stdout",
     "output_type": "stream",
     "text": [
      "[0, 1, 4]\n"
     ]
    }
   ],
   "source": [
    "print(nx.dijkstra_path(G, 0, 4))"
   ]
  },
  {
   "cell_type": "code",
   "execution_count": 6,
   "id": "2304158d",
   "metadata": {},
   "outputs": [
    {
     "name": "stdout",
     "output_type": "stream",
     "text": [
      "[0, 3, 6]\n"
     ]
    }
   ],
   "source": [
    "print(nx.dijkstra_path(G, 0, 6))"
   ]
  },
  {
   "cell_type": "code",
   "execution_count": 7,
   "id": "5bb32fc2",
   "metadata": {},
   "outputs": [
    {
     "name": "stdout",
     "output_type": "stream",
     "text": [
      "[0, 3]\n"
     ]
    }
   ],
   "source": [
    "print(nx.dijkstra_path(G, 0, 3))"
   ]
  },
  {
   "cell_type": "code",
   "execution_count": 8,
   "id": "1a2a2b50",
   "metadata": {},
   "outputs": [
    {
     "name": "stdout",
     "output_type": "stream",
     "text": [
      "[0, 2, 5]\n"
     ]
    }
   ],
   "source": [
    "print(nx.dijkstra_path(G, 0, 5))"
   ]
  },
  {
   "cell_type": "markdown",
   "id": "b588c1bf",
   "metadata": {},
   "source": [
    "## Add a new edge attribute"
   ]
  },
  {
   "cell_type": "code",
   "execution_count": null,
   "id": "c39c71b0",
   "metadata": {},
   "outputs": [],
   "source": []
  }
 ],
 "metadata": {
  "kernelspec": {
   "display_name": "Python 3",
   "language": "python",
   "name": "python3"
  },
  "language_info": {
   "codemirror_mode": {
    "name": "ipython",
    "version": 3
   },
   "file_extension": ".py",
   "mimetype": "text/x-python",
   "name": "python",
   "nbconvert_exporter": "python",
   "pygments_lexer": "ipython3",
   "version": "3.7.7"
  }
 },
 "nbformat": 4,
 "nbformat_minor": 5
}
