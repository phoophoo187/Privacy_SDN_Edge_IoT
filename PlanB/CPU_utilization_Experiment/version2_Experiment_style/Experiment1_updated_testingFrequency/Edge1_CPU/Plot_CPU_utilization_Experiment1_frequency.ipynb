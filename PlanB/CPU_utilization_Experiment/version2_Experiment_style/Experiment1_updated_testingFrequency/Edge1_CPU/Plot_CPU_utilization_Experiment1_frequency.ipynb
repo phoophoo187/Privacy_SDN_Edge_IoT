{
 "cells": [
  {
   "cell_type": "markdown",
   "id": "be1e0f6b",
   "metadata": {},
   "source": [
    "# This program is used to plot the results of the experiment 1 (when we masured more sampling points of traffic load) "
   ]
  },
  {
   "cell_type": "code",
   "execution_count": 1,
   "id": "b52a5b00",
   "metadata": {},
   "outputs": [],
   "source": [
    "import numpy as np\n",
    "import pandas as pd\n",
    "import matplotlib.pyplot as plt\n",
    "import requests\n",
    "import io\n",
    "import glob"
   ]
  },
  {
   "cell_type": "markdown",
   "id": "1bda8e27",
   "metadata": {},
   "source": [
    "## Input filename of CSV file"
   ]
  },
  {
   "cell_type": "code",
   "execution_count": 2,
   "id": "141f6970",
   "metadata": {},
   "outputs": [],
   "source": [
    "directoryPath = \"/Users/kalika/PycharmProjects/Privacy_SDN_Edge_IoT/PlanB/CPU_utilization_Experiment/version2_Experiment_style/Experiment1_updated_testingFrequency/Edge1_CPU/\""
   ]
  },
  {
   "cell_type": "code",
   "execution_count": 3,
   "id": "37846585",
   "metadata": {},
   "outputs": [],
   "source": [
    "directoryPath_thru = \"/Users/kalika/PycharmProjects/Privacy_SDN_Edge_IoT/PlanB/CPU_utilization_Experiment/version2_Experiment_style/Experiment1_updated_testingFrequency/Edge1_Iperf_log/\""
   ]
  },
  {
   "cell_type": "code",
   "execution_count": null,
   "id": "ccf95cee",
   "metadata": {},
   "outputs": [],
   "source": [
    "## Find start row index of itteration\n",
    "def getStartEndID(df,start_data,end_data):\n",
    "    \"\"\"\n",
    "    to clean dataframe and return the data with new header\n",
    "    Input: \n",
    "        df : datafram without header of txt file \n",
    "    Output\n",
    "        strat_indices_list : start indices list\n",
    "    \"\"\"\n",
    "    # creating and passing series to new column\n",
    "    df[\"Start\"]= df[2].str.find(start_data)\n",
    "    df[\"End\"]= df[2].str.find(end_data)\n",
    "\n",
    "    index = df.index\n",
    "    strat_indices = index[df[\"Start\"]==0.0]\n",
    "    strat_indices_list = strat_indices.tolist()\n",
    "    end_indices = index[df[\"End\"]==0.0]\n",
    "    end_indices_list = end_indices.tolist()\n",
    "    \n",
    "    \n",
    "    return strat_indices_list, end_indices_list\n",
    "    "
   ]
  },
  {
   "cell_type": "code",
   "execution_count": 4,
   "id": "9bd9d830",
   "metadata": {},
   "outputs": [],
   "source": [
    "def readCSV2pd_CPU(directoryPath,tf_load):\n",
    "    \"\"\"\n",
    "    This function is to read a CSV file and return the average value and varience\n",
    "    input: directoryPath : path of file names\n",
    "            tf_load : list of traffic load\n",
    "    \"\"\"\n",
    "    avg_cpu = []\n",
    "    var_cpu = []\n",
    "    for tf in tf_load:\n",
    "        cpu_data = pd.DataFrame()\n",
    "        for file_name in glob.glob(directoryPath+'edge1CPU_M'+str(tf)+'.csv'):\n",
    "           \n",
    "            x = pd.read_csv(file_name, low_memory=False)\n",
    "            cpu_data = pd.concat([cpu_data,x],axis=0)\n",
    "            cpu_mean = cpu_data.mean(axis=0)\n",
    "            cpu_var = cpu_data.var(axis=0)\n",
    "            avg_cpu.append(cpu_mean['percentage_cpu_utilisation'])\n",
    "            var_cpu.append(cpu_var['percentage_cpu_utilisation'])\n",
    "    return avg_cpu, var_cpu"
   ]
  },
  {
   "cell_type": "code",
   "execution_count": 5,
   "id": "0aeff009",
   "metadata": {},
   "outputs": [],
   "source": [
    "def readCSV2pd_Thru(directoryPath,tf_load):\n",
    "    \"\"\"\n",
    "    This function is to read a CSV file and return the average value and varience\n",
    "    input: directoryPath : path of file names\n",
    "            tf_load : list of traffic load\n",
    "    \"\"\"\n",
    "    avg_thru = []\n",
    "    var_thru = []\n",
    "    for tf in tf_load:\n",
    "        thru_data = pd.DataFrame()\n",
    "        for file_name in glob.glob(directoryPath+'edge1_M'+str(tf)+'.csv'):\n",
    "            print(file_name)\n",
    "           \n",
    "            x = pd.read_csv(file_name, low_memory=False)\n",
    "            thru_data = pd.concat([thru_data,x],axis=0)\n",
    "            thru_mean = thru_data.mean(axis=0)\n",
    "            thru_var = thru_data.var(axis=0)\n",
    "            print(thru_data.head)\n",
    "            avg_thru.append(thru_mean['Bitrate'])\n",
    "            var_thru.append(thru_var['Bitrate'])\n",
    "    return avg_thru, var_thru"
   ]
  },
  {
   "cell_type": "code",
   "execution_count": 6,
   "id": "030a9ec0",
   "metadata": {},
   "outputs": [],
   "source": [
    "tf_load  = [i*2 for i in range(1,20)]\n",
    "avg_cpu, var_cpu = readCSV2pd_CPU(directoryPath,tf_load)\n",
    "\n"
   ]
  },
  {
   "cell_type": "code",
   "execution_count": 7,
   "id": "ee1ab1fb",
   "metadata": {},
   "outputs": [
    {
     "name": "stdout",
     "output_type": "stream",
     "text": [
      "/Users/kalika/PycharmProjects/Privacy_SDN_Edge_IoT/PlanB/CPU_utilization_Experiment/version2_Experiment_style/Experiment1_updated_testingFrequency/Edge1_Iperf_log/edge1_M2.csv\n",
      "<bound method NDFrame.head of       Interval Unnamed: 1  Transfer Unnamed: 3  Bitrate Unnamed: 5  \\\n",
      "0    0.00-1.00        sec       245     KBytes        2  Mbits/sec   \n",
      "1    1.00-2.00        sec       245     KBytes        2  Mbits/sec   \n",
      "2    2.00-3.00        sec       243     KBytes     1.99  Mbits/sec   \n",
      "3    3.00-4.00        sec       245     KBytes        2  Mbits/sec   \n",
      "4    4.00-5.00        sec       245     KBytes        2  Mbits/sec   \n",
      "..         ...        ...       ...        ...      ...        ...   \n",
      "71    Interval        NaN  Transfer        NaN  Bitrate        NaN   \n",
      "72  0.00-70.00        sec      16.7     MBytes        2  Mbits/sec   \n",
      "73  0.00-70.00        sec      16.7     MBytes        2  Mbits/sec   \n",
      "74         NaN        NaN       NaN        NaN      NaN        NaN   \n",
      "75       Done.        NaN       NaN        NaN      NaN        NaN   \n",
      "\n",
      "                     Total Datagrams  \n",
      "0                                173  \n",
      "1                                173  \n",
      "2                                172  \n",
      "3                                173  \n",
      "4                                173  \n",
      "..                               ...  \n",
      "71    Jitter    Lost/Total Datagrams  \n",
      "72    0.000 ms  0/12086 (0%)  sender  \n",
      "73  0.362 ms  0/12086 (0%)  receiver  \n",
      "74                               NaN  \n",
      "75                               NaN  \n",
      "\n",
      "[76 rows x 7 columns]>\n"
     ]
    },
    {
     "ename": "KeyError",
     "evalue": "'Bitrate'",
     "output_type": "error",
     "traceback": [
      "\u001b[0;31m---------------------------------------------------------------------------\u001b[0m",
      "\u001b[0;31mKeyError\u001b[0m                                  Traceback (most recent call last)",
      "\u001b[0;32m~/opt/anaconda3/lib/python3.7/site-packages/pandas/core/indexes/base.py\u001b[0m in \u001b[0;36mget_loc\u001b[0;34m(self, key, method, tolerance)\u001b[0m\n\u001b[1;32m   3080\u001b[0m             \u001b[0;32mtry\u001b[0m\u001b[0;34m:\u001b[0m\u001b[0;34m\u001b[0m\u001b[0;34m\u001b[0m\u001b[0m\n\u001b[0;32m-> 3081\u001b[0;31m                 \u001b[0;32mreturn\u001b[0m \u001b[0mself\u001b[0m\u001b[0;34m.\u001b[0m\u001b[0m_engine\u001b[0m\u001b[0;34m.\u001b[0m\u001b[0mget_loc\u001b[0m\u001b[0;34m(\u001b[0m\u001b[0mcasted_key\u001b[0m\u001b[0;34m)\u001b[0m\u001b[0;34m\u001b[0m\u001b[0;34m\u001b[0m\u001b[0m\n\u001b[0m\u001b[1;32m   3082\u001b[0m             \u001b[0;32mexcept\u001b[0m \u001b[0mKeyError\u001b[0m \u001b[0;32mas\u001b[0m \u001b[0merr\u001b[0m\u001b[0;34m:\u001b[0m\u001b[0;34m\u001b[0m\u001b[0;34m\u001b[0m\u001b[0m\n",
      "\u001b[0;32mpandas/_libs/index.pyx\u001b[0m in \u001b[0;36mpandas._libs.index.IndexEngine.get_loc\u001b[0;34m()\u001b[0m\n",
      "\u001b[0;32mpandas/_libs/index.pyx\u001b[0m in \u001b[0;36mpandas._libs.index.IndexEngine.get_loc\u001b[0;34m()\u001b[0m\n",
      "\u001b[0;32mpandas/_libs/hashtable_class_helper.pxi\u001b[0m in \u001b[0;36mpandas._libs.hashtable.PyObjectHashTable.get_item\u001b[0;34m()\u001b[0m\n",
      "\u001b[0;32mpandas/_libs/hashtable_class_helper.pxi\u001b[0m in \u001b[0;36mpandas._libs.hashtable.PyObjectHashTable.get_item\u001b[0;34m()\u001b[0m\n",
      "\u001b[0;31mKeyError\u001b[0m: 'Bitrate'",
      "\nThe above exception was the direct cause of the following exception:\n",
      "\u001b[0;31mKeyError\u001b[0m                                  Traceback (most recent call last)",
      "\u001b[0;32m<ipython-input-7-2e09eed09a8a>\u001b[0m in \u001b[0;36m<module>\u001b[0;34m\u001b[0m\n\u001b[0;32m----> 1\u001b[0;31m \u001b[0mavg_thru\u001b[0m\u001b[0;34m,\u001b[0m \u001b[0mvar_thru\u001b[0m \u001b[0;34m=\u001b[0m \u001b[0mreadCSV2pd_Thru\u001b[0m\u001b[0;34m(\u001b[0m\u001b[0mdirectoryPath_thru\u001b[0m\u001b[0;34m,\u001b[0m\u001b[0mtf_load\u001b[0m\u001b[0;34m)\u001b[0m\u001b[0;34m\u001b[0m\u001b[0;34m\u001b[0m\u001b[0m\n\u001b[0m",
      "\u001b[0;32m<ipython-input-5-40ab6a1b090d>\u001b[0m in \u001b[0;36mreadCSV2pd_Thru\u001b[0;34m(directoryPath, tf_load)\u001b[0m\n\u001b[1;32m     17\u001b[0m             \u001b[0mthru_var\u001b[0m \u001b[0;34m=\u001b[0m \u001b[0mthru_data\u001b[0m\u001b[0;34m.\u001b[0m\u001b[0mvar\u001b[0m\u001b[0;34m(\u001b[0m\u001b[0maxis\u001b[0m\u001b[0;34m=\u001b[0m\u001b[0;36m0\u001b[0m\u001b[0;34m)\u001b[0m\u001b[0;34m\u001b[0m\u001b[0;34m\u001b[0m\u001b[0m\n\u001b[1;32m     18\u001b[0m             \u001b[0mprint\u001b[0m\u001b[0;34m(\u001b[0m\u001b[0mthru_data\u001b[0m\u001b[0;34m.\u001b[0m\u001b[0mhead\u001b[0m\u001b[0;34m)\u001b[0m\u001b[0;34m\u001b[0m\u001b[0;34m\u001b[0m\u001b[0m\n\u001b[0;32m---> 19\u001b[0;31m             \u001b[0mavg_thru\u001b[0m\u001b[0;34m.\u001b[0m\u001b[0mappend\u001b[0m\u001b[0;34m(\u001b[0m\u001b[0mthru_mean\u001b[0m\u001b[0;34m[\u001b[0m\u001b[0;34m'Bitrate'\u001b[0m\u001b[0;34m]\u001b[0m\u001b[0;34m)\u001b[0m\u001b[0;34m\u001b[0m\u001b[0;34m\u001b[0m\u001b[0m\n\u001b[0m\u001b[1;32m     20\u001b[0m             \u001b[0mvar_thru\u001b[0m\u001b[0;34m.\u001b[0m\u001b[0mappend\u001b[0m\u001b[0;34m(\u001b[0m\u001b[0mthru_var\u001b[0m\u001b[0;34m[\u001b[0m\u001b[0;34m'Bitrate'\u001b[0m\u001b[0;34m]\u001b[0m\u001b[0;34m)\u001b[0m\u001b[0;34m\u001b[0m\u001b[0;34m\u001b[0m\u001b[0m\n\u001b[1;32m     21\u001b[0m     \u001b[0;32mreturn\u001b[0m \u001b[0mavg_thru\u001b[0m\u001b[0;34m,\u001b[0m \u001b[0mvar_thru\u001b[0m\u001b[0;34m\u001b[0m\u001b[0;34m\u001b[0m\u001b[0m\n",
      "\u001b[0;32m~/opt/anaconda3/lib/python3.7/site-packages/pandas/core/series.py\u001b[0m in \u001b[0;36m__getitem__\u001b[0;34m(self, key)\u001b[0m\n\u001b[1;32m    851\u001b[0m \u001b[0;34m\u001b[0m\u001b[0m\n\u001b[1;32m    852\u001b[0m         \u001b[0;32melif\u001b[0m \u001b[0mkey_is_scalar\u001b[0m\u001b[0;34m:\u001b[0m\u001b[0;34m\u001b[0m\u001b[0;34m\u001b[0m\u001b[0m\n\u001b[0;32m--> 853\u001b[0;31m             \u001b[0;32mreturn\u001b[0m \u001b[0mself\u001b[0m\u001b[0;34m.\u001b[0m\u001b[0m_get_value\u001b[0m\u001b[0;34m(\u001b[0m\u001b[0mkey\u001b[0m\u001b[0;34m)\u001b[0m\u001b[0;34m\u001b[0m\u001b[0;34m\u001b[0m\u001b[0m\n\u001b[0m\u001b[1;32m    854\u001b[0m \u001b[0;34m\u001b[0m\u001b[0m\n\u001b[1;32m    855\u001b[0m         \u001b[0;32mif\u001b[0m \u001b[0mis_hashable\u001b[0m\u001b[0;34m(\u001b[0m\u001b[0mkey\u001b[0m\u001b[0;34m)\u001b[0m\u001b[0;34m:\u001b[0m\u001b[0;34m\u001b[0m\u001b[0;34m\u001b[0m\u001b[0m\n",
      "\u001b[0;32m~/opt/anaconda3/lib/python3.7/site-packages/pandas/core/series.py\u001b[0m in \u001b[0;36m_get_value\u001b[0;34m(self, label, takeable)\u001b[0m\n\u001b[1;32m    959\u001b[0m \u001b[0;34m\u001b[0m\u001b[0m\n\u001b[1;32m    960\u001b[0m         \u001b[0;31m# Similar to Index.get_value, but we do not fall back to positional\u001b[0m\u001b[0;34m\u001b[0m\u001b[0;34m\u001b[0m\u001b[0;34m\u001b[0m\u001b[0m\n\u001b[0;32m--> 961\u001b[0;31m         \u001b[0mloc\u001b[0m \u001b[0;34m=\u001b[0m \u001b[0mself\u001b[0m\u001b[0;34m.\u001b[0m\u001b[0mindex\u001b[0m\u001b[0;34m.\u001b[0m\u001b[0mget_loc\u001b[0m\u001b[0;34m(\u001b[0m\u001b[0mlabel\u001b[0m\u001b[0;34m)\u001b[0m\u001b[0;34m\u001b[0m\u001b[0;34m\u001b[0m\u001b[0m\n\u001b[0m\u001b[1;32m    962\u001b[0m         \u001b[0;32mreturn\u001b[0m \u001b[0mself\u001b[0m\u001b[0;34m.\u001b[0m\u001b[0mindex\u001b[0m\u001b[0;34m.\u001b[0m\u001b[0m_get_values_for_loc\u001b[0m\u001b[0;34m(\u001b[0m\u001b[0mself\u001b[0m\u001b[0;34m,\u001b[0m \u001b[0mloc\u001b[0m\u001b[0;34m,\u001b[0m \u001b[0mlabel\u001b[0m\u001b[0;34m)\u001b[0m\u001b[0;34m\u001b[0m\u001b[0;34m\u001b[0m\u001b[0m\n\u001b[1;32m    963\u001b[0m \u001b[0;34m\u001b[0m\u001b[0m\n",
      "\u001b[0;32m~/opt/anaconda3/lib/python3.7/site-packages/pandas/core/indexes/base.py\u001b[0m in \u001b[0;36mget_loc\u001b[0;34m(self, key, method, tolerance)\u001b[0m\n\u001b[1;32m   3081\u001b[0m                 \u001b[0;32mreturn\u001b[0m \u001b[0mself\u001b[0m\u001b[0;34m.\u001b[0m\u001b[0m_engine\u001b[0m\u001b[0;34m.\u001b[0m\u001b[0mget_loc\u001b[0m\u001b[0;34m(\u001b[0m\u001b[0mcasted_key\u001b[0m\u001b[0;34m)\u001b[0m\u001b[0;34m\u001b[0m\u001b[0;34m\u001b[0m\u001b[0m\n\u001b[1;32m   3082\u001b[0m             \u001b[0;32mexcept\u001b[0m \u001b[0mKeyError\u001b[0m \u001b[0;32mas\u001b[0m \u001b[0merr\u001b[0m\u001b[0;34m:\u001b[0m\u001b[0;34m\u001b[0m\u001b[0;34m\u001b[0m\u001b[0m\n\u001b[0;32m-> 3083\u001b[0;31m                 \u001b[0;32mraise\u001b[0m \u001b[0mKeyError\u001b[0m\u001b[0;34m(\u001b[0m\u001b[0mkey\u001b[0m\u001b[0;34m)\u001b[0m \u001b[0;32mfrom\u001b[0m \u001b[0merr\u001b[0m\u001b[0;34m\u001b[0m\u001b[0;34m\u001b[0m\u001b[0m\n\u001b[0m\u001b[1;32m   3084\u001b[0m \u001b[0;34m\u001b[0m\u001b[0m\n\u001b[1;32m   3085\u001b[0m         \u001b[0;32mif\u001b[0m \u001b[0mtolerance\u001b[0m \u001b[0;32mis\u001b[0m \u001b[0;32mnot\u001b[0m \u001b[0;32mNone\u001b[0m\u001b[0;34m:\u001b[0m\u001b[0;34m\u001b[0m\u001b[0;34m\u001b[0m\u001b[0m\n",
      "\u001b[0;31mKeyError\u001b[0m: 'Bitrate'"
     ]
    }
   ],
   "source": [
    "avg_thru, var_thru = readCSV2pd_Thru(directoryPath_thru,tf_load)"
   ]
  },
  {
   "cell_type": "markdown",
   "id": "4d285c78",
   "metadata": {},
   "source": [
    "## Plot"
   ]
  },
  {
   "cell_type": "code",
   "execution_count": null,
   "id": "92929283",
   "metadata": {},
   "outputs": [],
   "source": [
    "print(len(avg_cpu))"
   ]
  },
  {
   "cell_type": "code",
   "execution_count": null,
   "id": "6fff24fd",
   "metadata": {},
   "outputs": [],
   "source": [
    "\n",
    "\n",
    "plt.plot(tf_load, avg_cpu, color='green', linestyle='dashed', linewidth = 2,\n",
    "         marker='o', markerfacecolor='blue', markersize=10)\n",
    "plt.ylim(0,10)\n",
    "plt.xlim(0,40)\n",
    "plt.xlabel('Traffic load $\\lambda_{1,2}$ (Mbps)')\n",
    "# naming the y axis\n",
    "plt.ylabel('Average of CPU utilization (%)')\n",
    " "
   ]
  },
  {
   "cell_type": "code",
   "execution_count": null,
   "id": "02991d0b",
   "metadata": {},
   "outputs": [],
   "source": [
    "plt.plot(tf_load, var_cpu, color='green', linestyle='dashed', linewidth = 2,\n",
    "         marker='o', markerfacecolor='blue', markersize=10)\n",
    "plt.ylim(0,10)\n",
    "plt.xlim(0,40)\n",
    "plt.xlabel('Traffic load $\\lambda_{1,2}$ (Mbps)')\n",
    "# naming the y axis\n",
    "plt.ylabel('Variance of CPU utilization (%)')\n",
    " "
   ]
  },
  {
   "cell_type": "code",
   "execution_count": null,
   "id": "a31db859",
   "metadata": {},
   "outputs": [],
   "source": [
    "plt.plot(tf_load, avg_thru, color='green', linestyle='dashed', linewidth = 2,\n",
    "         marker='o', markerfacecolor='blue', markersize=10)\n",
    "plt.ylim(0,10)\n",
    "plt.xlim(0,40)\n",
    "plt.xlabel('Traffic load $\\lambda_{1,2}$ (Mbps)')\n",
    "# naming the y axis\n",
    "plt.ylabel('Average of Throughput (%)')\n",
    " "
   ]
  },
  {
   "cell_type": "code",
   "execution_count": null,
   "id": "7b098246",
   "metadata": {},
   "outputs": [],
   "source": [
    "plt.plot(tf_load, var_thru, color='green', linestyle='dashed', linewidth = 2,\n",
    "         marker='o', markerfacecolor='blue', markersize=10)\n",
    "plt.ylim(0,10)\n",
    "plt.xlim(0,40)\n",
    "plt.xlabel('Traffic load $\\lambda_{1,2}$ (Mbps)')\n",
    "# naming the y axis\n",
    "plt.ylabel('Variance of Throughput (%)')"
   ]
  }
 ],
 "metadata": {
  "kernelspec": {
   "display_name": "Python 3",
   "language": "python",
   "name": "python3"
  },
  "language_info": {
   "codemirror_mode": {
    "name": "ipython",
    "version": 3
   },
   "file_extension": ".py",
   "mimetype": "text/x-python",
   "name": "python",
   "nbconvert_exporter": "python",
   "pygments_lexer": "ipython3",
   "version": "3.7.7"
  }
 },
 "nbformat": 4,
 "nbformat_minor": 5
}
