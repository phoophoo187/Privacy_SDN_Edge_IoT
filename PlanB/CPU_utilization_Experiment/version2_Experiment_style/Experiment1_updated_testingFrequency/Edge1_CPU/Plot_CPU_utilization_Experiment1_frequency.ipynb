{
 "cells": [
  {
   "cell_type": "markdown",
   "id": "b4711702",
   "metadata": {},
   "source": [
    "# This program is used to plot the results of the experiment 1 (when we masured more sampling points of traffic load) "
   ]
  },
  {
   "cell_type": "code",
   "execution_count": 1,
   "id": "f42d9abf",
   "metadata": {},
   "outputs": [],
   "source": [
    "import numpy as np\n",
    "import pandas as pd\n",
    "import matplotlib.pyplot as plt\n",
    "import requests\n",
    "import io\n",
    "import glob"
   ]
  },
  {
   "cell_type": "markdown",
   "id": "1fc95ffa",
   "metadata": {},
   "source": [
    "## Input filename of CSV file : CPU utilization"
   ]
  },
  {
   "cell_type": "code",
   "execution_count": 2,
   "id": "134a0001",
   "metadata": {},
   "outputs": [],
   "source": [
    "## Find start row index of itteration\n",
    "def getStartEndID(df,start_data,end_data):\n",
    "    \"\"\"\n",
    "    to clean dataframe and return the data with new header\n",
    "    Input: \n",
    "        df : datafram without header of txt file \n",
    "    Output\n",
    "        strat_indices_list : start indices list\n",
    "    \"\"\"\n",
    "    # creating and passing series to new column\n",
    "    df[\"Start\"]= df[2].str.find(start_data)\n",
    "    df[\"End\"]= df[2].str.find(end_data)\n",
    "\n",
    "    index = df.index\n",
    "    strat_indices = index[df[\"Start\"]==0.0]\n",
    "    strat_indices_list = strat_indices.tolist()\n",
    "    end_indices = index[df[\"End\"]==0.0]\n",
    "    end_indices_list = end_indices.tolist()\n",
    "    \n",
    "    \n",
    "    return strat_indices_list, end_indices_list\n",
    "    "
   ]
  },
  {
   "cell_type": "code",
   "execution_count": 3,
   "id": "8e572bbc",
   "metadata": {},
   "outputs": [],
   "source": [
    "def readCSV2pd_CPU(directoryPath,tf_load,edge_name):\n",
    "    \"\"\"\n",
    "    This function is to read a CSV file and return the average value and varience\n",
    "    input: directoryPath : path of file names\n",
    "            tf_load : list of traffic load\n",
    "    \"\"\"\n",
    "    avg_cpu = []\n",
    "    var_cpu = []\n",
    "    for tf in tf_load:\n",
    "        cpu_data = pd.DataFrame()\n",
    "        for file_name in glob.glob(directoryPath+edge_name+str(tf)+'.csv'):\n",
    "            print(file_name)\n",
    "            x = pd.read_csv(file_name, low_memory=False)\n",
    "            cpu_data = pd.concat([cpu_data,x],axis=0)\n",
    "            cpu_mean = cpu_data.mean(axis=0)\n",
    "            cpu_var = cpu_data.var(axis=0)\n",
    "            avg_cpu.append(cpu_mean['percentage_cpu_utilisation'])\n",
    "            var_cpu.append(cpu_var['percentage_cpu_utilisation'])\n",
    "    return avg_cpu, var_cpu"
   ]
  },
  {
   "cell_type": "code",
   "execution_count": 4,
   "id": "11c16159",
   "metadata": {},
   "outputs": [],
   "source": [
    "directoryPath = \"/Users/kalika/PycharmProjects/Privacy_SDN_Edge_IoT/PlanB/CPU_utilization_Experiment/version2_Experiment_style/Experiment1_updated_testingFrequency/Edge1_CPU/\""
   ]
  },
  {
   "cell_type": "code",
   "execution_count": 5,
   "id": "fd0a6d96",
   "metadata": {},
   "outputs": [
    {
     "name": "stdout",
     "output_type": "stream",
     "text": [
      "/Users/kalika/PycharmProjects/Privacy_SDN_Edge_IoT/PlanB/CPU_utilization_Experiment/version2_Experiment_style/Experiment1_updated_testingFrequency/Edge1_CPU/edge1CPU_M2.csv\n",
      "/Users/kalika/PycharmProjects/Privacy_SDN_Edge_IoT/PlanB/CPU_utilization_Experiment/version2_Experiment_style/Experiment1_updated_testingFrequency/Edge1_CPU/edge1CPU_M4.csv\n",
      "/Users/kalika/PycharmProjects/Privacy_SDN_Edge_IoT/PlanB/CPU_utilization_Experiment/version2_Experiment_style/Experiment1_updated_testingFrequency/Edge1_CPU/edge1CPU_M6.csv\n",
      "/Users/kalika/PycharmProjects/Privacy_SDN_Edge_IoT/PlanB/CPU_utilization_Experiment/version2_Experiment_style/Experiment1_updated_testingFrequency/Edge1_CPU/edge1CPU_M8.csv\n",
      "/Users/kalika/PycharmProjects/Privacy_SDN_Edge_IoT/PlanB/CPU_utilization_Experiment/version2_Experiment_style/Experiment1_updated_testingFrequency/Edge1_CPU/edge1CPU_M10.csv\n",
      "/Users/kalika/PycharmProjects/Privacy_SDN_Edge_IoT/PlanB/CPU_utilization_Experiment/version2_Experiment_style/Experiment1_updated_testingFrequency/Edge1_CPU/edge1CPU_M12.csv\n",
      "/Users/kalika/PycharmProjects/Privacy_SDN_Edge_IoT/PlanB/CPU_utilization_Experiment/version2_Experiment_style/Experiment1_updated_testingFrequency/Edge1_CPU/edge1CPU_M14.csv\n",
      "/Users/kalika/PycharmProjects/Privacy_SDN_Edge_IoT/PlanB/CPU_utilization_Experiment/version2_Experiment_style/Experiment1_updated_testingFrequency/Edge1_CPU/edge1CPU_M16.csv\n",
      "/Users/kalika/PycharmProjects/Privacy_SDN_Edge_IoT/PlanB/CPU_utilization_Experiment/version2_Experiment_style/Experiment1_updated_testingFrequency/Edge1_CPU/edge1CPU_M18.csv\n",
      "/Users/kalika/PycharmProjects/Privacy_SDN_Edge_IoT/PlanB/CPU_utilization_Experiment/version2_Experiment_style/Experiment1_updated_testingFrequency/Edge1_CPU/edge1CPU_M20.csv\n",
      "/Users/kalika/PycharmProjects/Privacy_SDN_Edge_IoT/PlanB/CPU_utilization_Experiment/version2_Experiment_style/Experiment1_updated_testingFrequency/Edge1_CPU/edge1CPU_M22.csv\n",
      "/Users/kalika/PycharmProjects/Privacy_SDN_Edge_IoT/PlanB/CPU_utilization_Experiment/version2_Experiment_style/Experiment1_updated_testingFrequency/Edge1_CPU/edge1CPU_M24.csv\n",
      "/Users/kalika/PycharmProjects/Privacy_SDN_Edge_IoT/PlanB/CPU_utilization_Experiment/version2_Experiment_style/Experiment1_updated_testingFrequency/Edge1_CPU/edge1CPU_M26.csv\n",
      "/Users/kalika/PycharmProjects/Privacy_SDN_Edge_IoT/PlanB/CPU_utilization_Experiment/version2_Experiment_style/Experiment1_updated_testingFrequency/Edge1_CPU/edge1CPU_M28.csv\n",
      "/Users/kalika/PycharmProjects/Privacy_SDN_Edge_IoT/PlanB/CPU_utilization_Experiment/version2_Experiment_style/Experiment1_updated_testingFrequency/Edge1_CPU/edge1CPU_M30.csv\n",
      "/Users/kalika/PycharmProjects/Privacy_SDN_Edge_IoT/PlanB/CPU_utilization_Experiment/version2_Experiment_style/Experiment1_updated_testingFrequency/Edge1_CPU/edge1CPU_M32.csv\n",
      "/Users/kalika/PycharmProjects/Privacy_SDN_Edge_IoT/PlanB/CPU_utilization_Experiment/version2_Experiment_style/Experiment1_updated_testingFrequency/Edge1_CPU/edge1CPU_M34.csv\n",
      "/Users/kalika/PycharmProjects/Privacy_SDN_Edge_IoT/PlanB/CPU_utilization_Experiment/version2_Experiment_style/Experiment1_updated_testingFrequency/Edge1_CPU/edge1CPU_M36.csv\n",
      "/Users/kalika/PycharmProjects/Privacy_SDN_Edge_IoT/PlanB/CPU_utilization_Experiment/version2_Experiment_style/Experiment1_updated_testingFrequency/Edge1_CPU/edge1CPU_M38.csv\n"
     ]
    }
   ],
   "source": [
    "tf_load  = [i*2 for i in range(1,20)]\n",
    "edge_name = 'edge1CPU_M'\n",
    "avg_cpu, var_cpu = readCSV2pd_CPU(directoryPath,tf_load,edge_name)\n",
    "\n"
   ]
  },
  {
   "cell_type": "code",
   "execution_count": 6,
   "id": "d2cee370",
   "metadata": {},
   "outputs": [],
   "source": [
    "directoryPath_2 = \"/Users/kalika/PycharmProjects/Privacy_SDN_Edge_IoT/PlanB/CPU_utilization_Experiment/version2_Experiment_style/Experiment1_updated_testingFrequency/Edge2_CPU/\""
   ]
  },
  {
   "cell_type": "code",
   "execution_count": 7,
   "id": "ed0e4923",
   "metadata": {},
   "outputs": [
    {
     "name": "stdout",
     "output_type": "stream",
     "text": [
      "/Users/kalika/PycharmProjects/Privacy_SDN_Edge_IoT/PlanB/CPU_utilization_Experiment/version2_Experiment_style/Experiment1_updated_testingFrequency/Edge2_CPU/edge2CPU_M2.csv\n",
      "/Users/kalika/PycharmProjects/Privacy_SDN_Edge_IoT/PlanB/CPU_utilization_Experiment/version2_Experiment_style/Experiment1_updated_testingFrequency/Edge2_CPU/edge2CPU_M4.csv\n",
      "/Users/kalika/PycharmProjects/Privacy_SDN_Edge_IoT/PlanB/CPU_utilization_Experiment/version2_Experiment_style/Experiment1_updated_testingFrequency/Edge2_CPU/edge2CPU_M6.csv\n",
      "/Users/kalika/PycharmProjects/Privacy_SDN_Edge_IoT/PlanB/CPU_utilization_Experiment/version2_Experiment_style/Experiment1_updated_testingFrequency/Edge2_CPU/edge2CPU_M8.csv\n",
      "/Users/kalika/PycharmProjects/Privacy_SDN_Edge_IoT/PlanB/CPU_utilization_Experiment/version2_Experiment_style/Experiment1_updated_testingFrequency/Edge2_CPU/edge2CPU_M10.csv\n",
      "/Users/kalika/PycharmProjects/Privacy_SDN_Edge_IoT/PlanB/CPU_utilization_Experiment/version2_Experiment_style/Experiment1_updated_testingFrequency/Edge2_CPU/edge2CPU_M12.csv\n",
      "/Users/kalika/PycharmProjects/Privacy_SDN_Edge_IoT/PlanB/CPU_utilization_Experiment/version2_Experiment_style/Experiment1_updated_testingFrequency/Edge2_CPU/edge2CPU_M14.csv\n",
      "/Users/kalika/PycharmProjects/Privacy_SDN_Edge_IoT/PlanB/CPU_utilization_Experiment/version2_Experiment_style/Experiment1_updated_testingFrequency/Edge2_CPU/edge2CPU_M16.csv\n",
      "/Users/kalika/PycharmProjects/Privacy_SDN_Edge_IoT/PlanB/CPU_utilization_Experiment/version2_Experiment_style/Experiment1_updated_testingFrequency/Edge2_CPU/edge2CPU_M18.csv\n",
      "/Users/kalika/PycharmProjects/Privacy_SDN_Edge_IoT/PlanB/CPU_utilization_Experiment/version2_Experiment_style/Experiment1_updated_testingFrequency/Edge2_CPU/edge2CPU_M20.csv\n",
      "/Users/kalika/PycharmProjects/Privacy_SDN_Edge_IoT/PlanB/CPU_utilization_Experiment/version2_Experiment_style/Experiment1_updated_testingFrequency/Edge2_CPU/edge2CPU_M22.csv\n",
      "/Users/kalika/PycharmProjects/Privacy_SDN_Edge_IoT/PlanB/CPU_utilization_Experiment/version2_Experiment_style/Experiment1_updated_testingFrequency/Edge2_CPU/edge2CPU_M24.csv\n",
      "/Users/kalika/PycharmProjects/Privacy_SDN_Edge_IoT/PlanB/CPU_utilization_Experiment/version2_Experiment_style/Experiment1_updated_testingFrequency/Edge2_CPU/edge2CPU_M26.csv\n",
      "/Users/kalika/PycharmProjects/Privacy_SDN_Edge_IoT/PlanB/CPU_utilization_Experiment/version2_Experiment_style/Experiment1_updated_testingFrequency/Edge2_CPU/edge2CPU_M28.csv\n",
      "/Users/kalika/PycharmProjects/Privacy_SDN_Edge_IoT/PlanB/CPU_utilization_Experiment/version2_Experiment_style/Experiment1_updated_testingFrequency/Edge2_CPU/edge2CPU_M30.csv\n",
      "/Users/kalika/PycharmProjects/Privacy_SDN_Edge_IoT/PlanB/CPU_utilization_Experiment/version2_Experiment_style/Experiment1_updated_testingFrequency/Edge2_CPU/edge2CPU_M32.csv\n",
      "/Users/kalika/PycharmProjects/Privacy_SDN_Edge_IoT/PlanB/CPU_utilization_Experiment/version2_Experiment_style/Experiment1_updated_testingFrequency/Edge2_CPU/edge2CPU_M34.csv\n",
      "/Users/kalika/PycharmProjects/Privacy_SDN_Edge_IoT/PlanB/CPU_utilization_Experiment/version2_Experiment_style/Experiment1_updated_testingFrequency/Edge2_CPU/edge2CPU_M36.csv\n",
      "/Users/kalika/PycharmProjects/Privacy_SDN_Edge_IoT/PlanB/CPU_utilization_Experiment/version2_Experiment_style/Experiment1_updated_testingFrequency/Edge2_CPU/edge2CPU_M38.csv\n",
      "[4.949999999999998, 9.434999999999999, 9.91, 12.98, 16.285000000000004, 18.705, 20.605, 22.140000000000004, 24.339999999999996, 25.730000000000008, 26.740000000000002, 26.979999999999997, 27.774999999999995, 28.139999999999997, 27.339999999999996, 28.050000000000004, 28.18999999999999, 27.11500000000001, 27.620000000000005]\n"
     ]
    }
   ],
   "source": [
    "edge_name2 = 'edge2CPU_M' \n",
    "avg_cpu_edge2, var_cpu_edge2 = readCSV2pd_CPU(directoryPath_2,tf_load,edge_name2)\n",
    "print(avg_cpu_edge2)"
   ]
  },
  {
   "cell_type": "markdown",
   "id": "dbc2166a",
   "metadata": {},
   "source": [
    "## Plot"
   ]
  },
  {
   "cell_type": "code",
   "execution_count": 8,
   "id": "a4727698",
   "metadata": {},
   "outputs": [
    {
     "data": {
      "image/png": "[encoded data removed]",
      "text/plain": [
       "<Figure size 432x288 with 1 Axes>"
      ]
     },
     "metadata": {
      "needs_background": "light"
     },
     "output_type": "display_data"
    }
   ],
   "source": [
    "fig = plt.figure()\n",
    "\n",
    "ax = fig.add_subplot(1, 1, 1)\n",
    "\n",
    "\n",
    "ax.plot(tf_load, avg_cpu, color='green', linestyle='dashed', linewidth = 2,\n",
    "         marker='o', markerfacecolor='green', markersize=10,label=\"Edge 1\")\n",
    "ax.plot(tf_load, avg_cpu_edge2, color='red', linestyle='dashed', linewidth = 2,\n",
    "         marker='x', markerfacecolor='red', markersize=10,label=\"Edge 2\")\n",
    "plt.ylim(0,30)\n",
    "plt.xlim(0,40)\n",
    "plt.xlabel('Traffic load $\\lambda_{1,2}$ (Mbps)')\n",
    "# naming the y axis\n",
    "plt.ylabel('Average of CPU utilization (%)')\n",
    "\n",
    "plt.legend()\n",
    "\n",
    "plt.show()\n",
    " "
   ]
  },
  {
   "cell_type": "code",
   "execution_count": 9,
   "id": "34a80894",
   "metadata": {},
   "outputs": [
    {
     "data": {
      "image/png": "[encoded data removed]",
      "text/plain": [
       "<Figure size 432x288 with 1 Axes>"
      ]
     },
     "metadata": {
      "needs_background": "light"
     },
     "output_type": "display_data"
    }
   ],
   "source": [
    "\n",
    "fig = plt.figure()\n",
    "\n",
    "ax = fig.add_subplot(1, 1, 1)\n",
    "\n",
    "ax.plot(tf_load, var_cpu, color='green', linestyle='dashed', linewidth = 2,\n",
    "         marker='o', markerfacecolor='green', markersize=10,label=\"Edge 1\")\n",
    "\n",
    "ax.plot(tf_load, var_cpu_edge2, color='red', linestyle='dashed', linewidth = 2,\n",
    "         marker='x', markerfacecolor='red', markersize=10,label=\"Edge 2\")\n",
    "\n",
    "plt.ylim(0,20)\n",
    "plt.xlim(0,40)\n",
    "plt.xlabel('Traffic load $\\lambda_{1,2}$ (Mbps)')\n",
    "# naming the y axis\n",
    "plt.ylabel('Variance of CPU utilization (%)')\n",
    "\n",
    "plt.legend()\n",
    "\n",
    "plt.show()\n",
    " "
   ]
  },
  {
   "cell_type": "markdown",
   "id": "82934076",
   "metadata": {},
   "source": [
    "## Function for CSV files of Throughput from Iperf log"
   ]
  },
  {
   "cell_type": "code",
   "execution_count": 10,
   "id": "cd6f5de2",
   "metadata": {},
   "outputs": [],
   "source": [
    "def getDataframeThru(df,start_row,measurement_interval,header_range):\n",
    "    '''\n",
    "    This functions will import the data from txt file and return the dataframe without the header of txt file.\n",
    "    Input: \n",
    "        measurement_interval = 30 (sec) : \n",
    "        header_range = 10 lines\n",
    "        start_row = 0 \n",
    "    Return: \n",
    "        df1t : dataframe of througput and jitter\n",
    "    '''\n",
    "    \n",
    "    df1 = df.drop(labels=range(start_row, header_range), axis=0)\n",
    "    df1t = df1.drop(labels=range(measurement_interval, len(df)), axis=0)\n",
    "    \n",
    "    return df1t"
   ]
  },
  {
   "cell_type": "code",
   "execution_count": 11,
   "id": "a9a01be2",
   "metadata": {},
   "outputs": [],
   "source": [
    "def readCSV2pd_Thru(directoryPath,tf_load,edge_name):\n",
    "    \"\"\"\n",
    "    This function is to read a CSV file and return the average value and varience of Thruoughput\n",
    "    input: directoryPath : path of file names\n",
    "            tf_load : list of traffic load\n",
    "            \n",
    "    \"\"\"\n",
    "    avg_thru = []\n",
    "    var_thru = []\n",
    "    for tf in tf_load:\n",
    "        df = pd.DataFrame()\n",
    "        for file_name in glob.glob(directoryPath+edge_name+str(tf)+'.csv'):\n",
    "            x = pd.read_csv(file_name,skip_blank_lines=True,header=None)     \n",
    "            measurement_interval = 60\n",
    "            start_row = 0\n",
    "            header_range =1\n",
    "            df =getDataframeThru(x,start_row,measurement_interval,header_range)\n",
    "            df.rename({0 :'Interval', 1 : 'Unit', 2 :'Transfer', 3 :'Unit Byte', 4 :'Bitrate', 5: 'Unit bps', 6:'Total Datagrams'}, axis=1, inplace=True)\n",
    "\n",
    "            df['Bitrate'] = pd.to_numeric(df['Bitrate'], errors='coerce',downcast=\"float\")\n",
    "            Throughput = []\n",
    "            for i in range(1,df['Unit bps'].shape[0]):\n",
    "                if df['Unit bps'].loc[i] == 'Kbits/sec':\n",
    "                    Throughput.append(df['Bitrate'].loc[i]*1e-3)\n",
    "                elif df['Unit bps'].loc[i] == 'Mbits/sec':\n",
    "                    Throughput.append(df['Bitrate'].loc[i])\n",
    "                else:\n",
    "                     pass   \n",
    "            Thr = np.asarray(Throughput)\n",
    "            avg_thru.append(Thr.mean())\n",
    "        \n",
    "            \n",
    "    return avg_thru"
   ]
  },
  {
   "cell_type": "markdown",
   "id": "4f9a6e38",
   "metadata": {},
   "source": [
    "## Run Function"
   ]
  },
  {
   "cell_type": "code",
   "execution_count": 12,
   "id": "8eedf2af",
   "metadata": {},
   "outputs": [],
   "source": [
    "directoryPath_thru_edge1 = \"/Users/kalika/PycharmProjects/Privacy_SDN_Edge_IoT/PlanB/CPU_utilization_Experiment/version2_Experiment_style/Experiment1_updated_testingFrequency/Edge1_Iperf_log/\""
   ]
  },
  {
   "cell_type": "code",
   "execution_count": 13,
   "id": "16792ac3",
   "metadata": {},
   "outputs": [],
   "source": [
    "edge_name = 'edge1_M'\n",
    "avg_thru_edge1 = readCSV2pd_Thru(directoryPath_thru_edge1,tf_load,edge_name )"
   ]
  },
  {
   "cell_type": "code",
   "execution_count": 14,
   "id": "3417390b",
   "metadata": {},
   "outputs": [],
   "source": [
    "directoryPath_thru_edge2 = \"/Users/kalika/PycharmProjects/Privacy_SDN_Edge_IoT/PlanB/CPU_utilization_Experiment/version2_Experiment_style/Experiment1_updated_testingFrequency/Edge2_Iperf_log/\""
   ]
  },
  {
   "cell_type": "code",
   "execution_count": 15,
   "id": "82883ca9",
   "metadata": {},
   "outputs": [
    {
     "name": "stdout",
     "output_type": "stream",
     "text": [
      "[1.9965516, 4.0031037, 5.999482, 7.9960337, 10.0, 12.0, 14.0, 16.0, 18.0, 20.0, 22.0, 24.0, 26.0, 28.0, 27.036205, 28.74483, 29.663794, 28.551723, 28.303448]\n",
      "[1.9965516, 4.001552, 5.9989657, 7.9987926, 9.996725, 12.0, 14.0, 15.994829, 17.993103, 19.991377, 21.986208, 23.996553, 25.998276, 27.994827, 27.012068, 28.717241, 29.62586, 28.52931, 28.274137]\n"
     ]
    }
   ],
   "source": [
    "edge_name = 'edge2_M'\n",
    "avg_thru_edge2 = readCSV2pd_Thru(directoryPath_thru_edge2,tf_load,edge_name)\n",
    "\n",
    "print(avg_thru_edge1)\n",
    "print(avg_thru_edge2)"
   ]
  },
  {
   "cell_type": "markdown",
   "id": "ee26c3ab",
   "metadata": {},
   "source": [
    "## Plot Throughput"
   ]
  },
  {
   "cell_type": "code",
   "execution_count": 16,
   "id": "4eeab4de",
   "metadata": {},
   "outputs": [
    {
     "data": {
      "image/png": "[encoded data removed]",
      "text/plain": [
       "<Figure size 432x288 with 1 Axes>"
      ]
     },
     "metadata": {
      "needs_background": "light"
     },
     "output_type": "display_data"
    }
   ],
   "source": [
    "fig = plt.figure()\n",
    "\n",
    "ax = fig.add_subplot(1, 1, 1)\n",
    "\n",
    "\n",
    "ax.plot(tf_load, avg_thru_edge1, color='green', linestyle='dashed', linewidth = 2,\n",
    "         marker='o', markerfacecolor='green', markersize=10,  label=\"Edge 1\")\n",
    "\n",
    "ax.plot(tf_load, avg_thru_edge2, color='red', linestyle='dashed', linewidth = 2,\n",
    "         marker='x', markerfacecolor='red', markersize=10,  label=\"Edge 2\")\n",
    "\n",
    "plt.ylim(0,50)\n",
    "plt.xlim(0,40)\n",
    "plt.xlabel('Traffic load $\\lambda_{1,2}$ (Mbps)')\n",
    "# naming the y axis\n",
    "plt.ylabel('Average of Throughput (Mbps)')\n",
    "\n",
    "plt.legend()\n",
    "\n",
    "plt.show()\n",
    " "
   ]
  },
  {
   "cell_type": "code",
   "execution_count": null,
   "id": "303a884e",
   "metadata": {},
   "outputs": [],
   "source": []
  }
 ],
 "metadata": {
  "kernelspec": {
   "display_name": "Python 3",
   "language": "python",
   "name": "python3"
  },
  "language_info": {
   "codemirror_mode": {
    "name": "ipython",
    "version": 3
   },
   "file_extension": ".py",
   "mimetype": "text/x-python",
   "name": "python",
   "nbconvert_exporter": "python",
   "pygments_lexer": "ipython3",
   "version": "3.7.7"
  }
 },
 "nbformat": 4,
 "nbformat_minor": 5
}
