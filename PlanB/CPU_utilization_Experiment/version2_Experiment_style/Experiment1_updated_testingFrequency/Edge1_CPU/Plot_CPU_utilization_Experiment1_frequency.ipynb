{
 "cells": [
  {
   "cell_type": "markdown",
   "id": "075541e2",
   "metadata": {},
   "source": [
    "# This program is used to plot the results of the experiment 1 (when we masured more sampling points of traffic load) "
   ]
  },
  {
   "cell_type": "code",
   "execution_count": 2,
   "id": "959608bd",
   "metadata": {},
   "outputs": [],
   "source": [
    "import numpy as np\n",
    "import pandas as pd\n",
    "import matplotlib.pyplot as plt\n",
    "import requests\n",
    "import io\n"
   ]
  },
  {
   "cell_type": "markdown",
   "id": "68d7cc0e",
   "metadata": {},
   "source": [
    "## Input filename of CSV file"
   ]
  },
  {
   "cell_type": "code",
   "execution_count": null,
   "id": "60b4bd8d",
   "metadata": {},
   "outputs": [],
   "source": [
    "filename = \"\""
   ]
  }
 ],
 "metadata": {
  "kernelspec": {
   "display_name": "Python 3",
   "language": "python",
   "name": "python3"
  },
  "language_info": {
   "codemirror_mode": {
    "name": "ipython",
    "version": 3
   },
   "file_extension": ".py",
   "mimetype": "text/x-python",
   "name": "python",
   "nbconvert_exporter": "python",
   "pygments_lexer": "ipython3",
   "version": "3.7.7"
  }
 },
 "nbformat": 4,
 "nbformat_minor": 5
}
