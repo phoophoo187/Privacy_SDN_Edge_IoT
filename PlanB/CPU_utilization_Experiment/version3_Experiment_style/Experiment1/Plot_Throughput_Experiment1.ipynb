{
 "cells": [
  {
   "cell_type": "code",
   "execution_count": 1,
   "id": "b7626245",
   "metadata": {},
   "outputs": [],
   "source": [
    "import numpy as np\n",
    "import pandas as pd\n",
    "import matplotlib.pyplot as plt\n",
    "import requests\n",
    "import io\n",
    "import glob"
   ]
  },
  {
   "cell_type": "markdown",
   "id": "dbb8f945",
   "metadata": {},
   "source": [
    "## Function Read CSV files of Throughput from Iperf log\n"
   ]
  },
  {
   "cell_type": "code",
   "execution_count": 2,
   "id": "36efb313",
   "metadata": {},
   "outputs": [],
   "source": [
    "def getDataframeThru(df,start_row,measurement_interval,header_range):\n",
    "    '''\n",
    "    This functions will import the data from txt file and return the dataframe without the header of txt file.\n",
    "    Input: \n",
    "        measurement_interval = 30 (sec) : \n",
    "        header_range = 10 lines\n",
    "        start_row = 0 \n",
    "    Return: \n",
    "        df1t : dataframe of througput and jitter\n",
    "    '''\n",
    "    \n",
    "    df1 = df.drop(labels=range(start_row, header_range), axis=0)\n",
    "    df1t = df1.drop(labels=range(measurement_interval, len(df)), axis=0)\n",
    "    \n",
    "    return df1t"
   ]
  },
  {
   "cell_type": "code",
   "execution_count": 6,
   "id": "3c9bbfec",
   "metadata": {},
   "outputs": [],
   "source": [
    "def readCSV2pd_Thru(directoryPath,tf_load,edge_name):\n",
    "    \"\"\"\n",
    "    This function is to read a CSV file and return the average value and varience of Thruoughput\n",
    "    input: directoryPath : path of file names\n",
    "            tf_load : list of traffic load\n",
    "            \n",
    "    \"\"\"\n",
    "    avg_thru = []\n",
    "    var_thru = []\n",
    "    for tf in tf_load:\n",
    "        df = pd.DataFrame()\n",
    "        print('TF',tf)\n",
    "        for file_name in glob.glob(directoryPath+edge_name+str(tf)+'.csv'):\n",
    "            x = pd.read_csv(file_name,skip_blank_lines=True,header=None)  \n",
    "            print('x =', x)\n",
    "            measurement_interval = 60\n",
    "            start_row = 0\n",
    "            header_range = 1\n",
    "            df =getDataframeThru(x,start_row,measurement_interval,header_range)\n",
    "            df.rename({0 :'Interval', 1 : 'Unit', 2 :'Transfer', 3 :'Unit Byte', 4 :'Bitrate', 5: 'Unit bps', 6:'Total Datagrams'}, axis=1, inplace=True)\n",
    "\n",
    "            df['Bitrate'] = pd.to_numeric(df['Bitrate'], errors='coerce',downcast=\"float\")\n",
    "            Throughput = []\n",
    "            for i in range(1,df['Unit bps'].shape[0]):\n",
    "                if df['Unit bps'].loc[i] == 'Kbits/sec':\n",
    "                    Throughput.append(df['Bitrate'].loc[i]*1e-3)\n",
    "                elif df['Unit bps'].loc[i] == 'Mbits/sec':\n",
    "                    Throughput.append(df['Bitrate'].loc[i])\n",
    "                else:\n",
    "                     pass   \n",
    "            Thr = np.asarray(Throughput)\n",
    "            avg_thru.append(Thr.mean())\n",
    "        \n",
    "            \n",
    "    return avg_thru\n"
   ]
  },
  {
   "cell_type": "markdown",
   "id": "6dfb1a7e",
   "metadata": {},
   "source": [
    "## Read File CSV"
   ]
  },
  {
   "cell_type": "code",
   "execution_count": 7,
   "id": "c078f0a2",
   "metadata": {},
   "outputs": [],
   "source": [
    "\n",
    "\n",
    "directoryPath = '/Users/kalika/PycharmProjects/Privacy_SDN_Edge_IoT/PlanB/CPU_utilization_Experiment/version3_Experiment_style/Experiment1/Edge1_iperf_log/'\n",
    "\n"
   ]
  },
  {
   "cell_type": "code",
   "execution_count": 8,
   "id": "2e5f7787",
   "metadata": {},
   "outputs": [
    {
     "name": "stdout",
     "output_type": "stream",
     "text": [
      "[2, 4, 6, 8, 10, 12, 14, 16, 18, 20, 22, 24, 26, 28, 30, 32, 34, 36, 38]\n",
      "TF 2\n",
      "TF 4\n",
      "TF 6\n",
      "TF 8\n",
      "TF 10\n",
      "TF 12\n",
      "TF 14\n",
      "TF 16\n",
      "TF 18\n",
      "TF 20\n",
      "TF 22\n",
      "TF 24\n",
      "TF 26\n",
      "TF 28\n",
      "TF 30\n",
      "TF 32\n",
      "TF 34\n",
      "TF 36\n",
      "TF 38\n"
     ]
    }
   ],
   "source": [
    "edge_name = 'edge1_M'\n",
    "tf_load  = [i*2 for i in range(1,20)]\n",
    "print(tf_load)\n",
    "avg_thru_edge1 = readCSV2pd_Thru(directoryPath_iperf,tf_load,edge_name)"
   ]
  },
  {
   "cell_type": "code",
   "execution_count": null,
   "id": "4c6791a0",
   "metadata": {},
   "outputs": [],
   "source": []
  }
 ],
 "metadata": {
  "kernelspec": {
   "display_name": "Python 3",
   "language": "python",
   "name": "python3"
  },
  "language_info": {
   "codemirror_mode": {
    "name": "ipython",
    "version": 3
   },
   "file_extension": ".py",
   "mimetype": "text/x-python",
   "name": "python",
   "nbconvert_exporter": "python",
   "pygments_lexer": "ipython3",
   "version": "3.7.7"
  }
 },
 "nbformat": 4,
 "nbformat_minor": 5
}
