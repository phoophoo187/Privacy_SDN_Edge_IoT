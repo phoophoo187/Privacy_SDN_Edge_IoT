{
 "cells": [
  {
   "cell_type": "markdown",
   "id": "0308bc56",
   "metadata": {},
   "source": [
    "## Plot the throughput of experiment 1 of version 3"
   ]
  },
  {
   "cell_type": "code",
   "execution_count": null,
   "id": "27e63ed4",
   "metadata": {},
   "outputs": [],
   "source": [
    "import numpy as np\n",
    "import pandas as pd\n",
    "import matplotlib.pyplot as plt\n",
    "import requests\n",
    "import io\n",
    "import glob"
   ]
  },
  {
   "cell_type": "markdown",
   "id": "cea87335",
   "metadata": {},
   "source": [
    "## Function Read CSV files of Throughput from Iperf log\n"
   ]
  },
  {
   "cell_type": "code",
   "execution_count": null,
   "id": "12be01be",
   "metadata": {},
   "outputs": [],
   "source": [
    "def getDataframeThru(df,start_row,measurement_interval,header_range):\n",
    "    '''\n",
    "    This functions will import the data from txt file and return the dataframe without the header of txt file.\n",
    "    Input: \n",
    "        measurement_interval = 30 (sec) : \n",
    "        header_range = 10 lines\n",
    "        start_row = 0 \n",
    "    Return: \n",
    "        df1t : dataframe of througput and jitter\n",
    "    '''\n",
    "    \n",
    "    df1 = df.drop(labels=range(start_row, header_range), axis=0)\n",
    "    df1t = df1.drop(labels=range(measurement_interval, len(df)), axis=0)\n",
    "    \n",
    "    return df1t"
   ]
  },
  {
   "cell_type": "code",
   "execution_count": null,
   "id": "1c2a5191",
   "metadata": {},
   "outputs": [],
   "source": [
    "def getDatafromTxT(filename, headerrange):\n",
    "    \"\"\"\n",
    "    Get dataframe from txt file:\n",
    "    filename : xxx.txt\n",
    "    headerrange : number of lines that needed to be removed. \n",
    "    \n",
    "    return : df : datafame type\n",
    "    \"\"\"\n",
    "    h = headerrange + 1\n",
    "    skip_1 = list(range(0,h, 1))\n",
    "    df = pd.read_csv(filename,\n",
    "        skiprows=skip_1,\n",
    "        header=None,\n",
    "        delimiter=' ',\n",
    "        skipinitialspace=True,\n",
    "        error_bad_lines=False)\n",
    "    return df\n"
   ]
  },
  {
   "cell_type": "code",
   "execution_count": null,
   "id": "15c32c0b",
   "metadata": {},
   "outputs": [],
   "source": [
    "## Find start row index of itteration\n",
    "def getStartEndID(df,start_data,end_data):\n",
    "    \"\"\"\n",
    "    to clean dataframe and return the data with new header\n",
    "    Input: \n",
    "        df : datafram without header of txt file \n",
    "    Output\n",
    "        strat_indices_list : start indices list\n",
    "    \"\"\"\n",
    "    # creating and passing series to new column\n",
    "    df[\"Start\"]= df[2].str.find(start_data)\n",
    "    df[\"End\"]= df[2].str.find(end_data)\n",
    "\n",
    "    index = df.index\n",
    "    strat_indices = index[df[\"Start\"]==0.0]\n",
    "    strat_indices_list = strat_indices.tolist()\n",
    "    end_indices = index[df[\"End\"]==0.0]\n",
    "    end_indices_list = end_indices.tolist()\n",
    "    \n",
    "    \n",
    "    return strat_indices_list, end_indices_list\n",
    "    "
   ]
  },
  {
   "cell_type": "code",
   "execution_count": null,
   "id": "15839812",
   "metadata": {},
   "outputs": [],
   "source": [
    "def getCleanData(df,strat_indices_list,end_indices_list):\n",
    "    \"\"\"\n",
    "    \n",
    "    \"\"\"\n",
    "    df_all = df.drop(labels=range(1, len(df)), axis=0) # create new df\n",
    "    start_row = 0\n",
    "    c = 0\n",
    "    for i in strat_indices_list: \n",
    "        \n",
    "        h = i\n",
    "        print('h =',h)\n",
    "        m = end_indices_list[c]\n",
    "        print('m =', m)\n",
    "        df1 = getDataframeThru(df,start_row,m,h)\n",
    "        print('df1 = ', df1)\n",
    "        result = pd.concat([df_all,df1])\n",
    "        df_all = result\n",
    "        c = c + 1\n",
    "        if i == 0:\n",
    "            \n",
    "            df_all = df_all.drop(labels=0, axis=0)\n",
    "        \n",
    "        \n",
    "    return df_all"
   ]
  },
  {
   "cell_type": "code",
   "execution_count": null,
   "id": "068a6e47",
   "metadata": {},
   "outputs": [],
   "source": [
    "def superClean(filename,headerrange,start_data,end_data):\n",
    "    \"\"\"\n",
    "    Clean Data from CSV file with remove the unnecessary header\n",
    "    \"\"\"\n",
    "    df = getDatafromTxT(filename, headerrange)\n",
    "    strat_indices_list, end_indices_list = getStartEndID(df,start_data,end_data)\n",
    "    df_all = getCleanData(df,strat_indices_list,end_indices_list)\n",
    "    df_all_new = df_all.drop(df_all.columns[[0,1,3,5,7,9]], axis=1)  # Replace new columns header\n",
    "    df_all_new.rename({2 :'Interval', 4 : 'Transfer', 6 :'Bitrate', 8 :'Jitter', 10 :'Lost/Total Datagrams'}, axis=1, inplace=True)\n",
    "    df = df_all_new.drop(range(0,1))\n",
    "    df_all_new['Bitrate'] = df['Bitrate'].astype(float) \n",
    "    time = np.array(range(len(df_all_new.index)))\n",
    "\n",
    "    df_all_new['Time'] = time\n",
    "    df_all_new['Time'] = df_all_new['Time'].astype(int) \n",
    "    # avergae throughput \n",
    "    sumThroughput = df_all_new['Bitrate'].sum()\n",
    "    avgSumThroughput = sumThroughput/len(time)\n",
    "    print('avg  :', avgSumThroughput)\n",
    "    var_throughput = df_all_new['Bitrate'].var()\n",
    "    print('var  :', var_throughput)\n",
    "    \n",
    "    return avgSumThroughput, var_throughput\n",
    "\n",
    "    \n",
    "    "
   ]
  },
  {
   "cell_type": "code",
   "execution_count": null,
   "id": "23e46340",
   "metadata": {},
   "outputs": [],
   "source": [
    "def readCSV2pd_Thru(directoryPath,tf_load,edge_name,start_data,end_data,headerrange):\n",
    "    \"\"\"\n",
    "    This function is to read a CSV file and return the average value and varience\n",
    "    input: directoryPath : path of file names\n",
    "            tf_load : list of traffic load\n",
    "    \"\"\"\n",
    "    avg_Thr = []\n",
    "    var_Thr = []\n",
    "    for tf in tf_load:\n",
    "        cpu_data = pd.DataFrame()\n",
    "        for file_name in glob.glob(directoryPath+edge_name+str(tf)+'.csv'):\n",
    "            avg_thr,var_thr = superClean(file_name,headerrange,start_data,end_data)\n",
    "            \n",
    "            avg_Thr.append(avg_thr)\n",
    "            var_Thr.append(var_thr)\n",
    "    return avg_Thr, var_Thr"
   ]
  },
  {
   "cell_type": "markdown",
   "id": "d6f2ae7b",
   "metadata": {},
   "source": [
    "## Read File CSV"
   ]
  },
  {
   "cell_type": "code",
   "execution_count": null,
   "id": "58a210f6",
   "metadata": {},
   "outputs": [],
   "source": [
    "headerrange = 7\n",
    "start_data = '9.0-10.0'\n",
    "end_data = '60.0-61.0'\n",
    "tf_load  = [1,i*2 for i in range(4,20)]\n",
    "edge_name = 'edge1_M'\n",
    "directoryPath = '/Users/kalika/PycharmProjects/Privacy_SDN_Edge_IoT/PlanB/CPU_utilization_Experiment/version3_Experiment_style/Experiment1/Edge1_iperf_log/'\n",
    "avg_thr, var_thr = readCSV2pd_Thru(directoryPath,tf_load,edge_name,start_data,end_data,headerrange)"
   ]
  },
  {
   "cell_type": "code",
   "execution_count": null,
   "id": "2f7c03f0",
   "metadata": {},
   "outputs": [],
   "source": [
    "print('avg',avg_thr)\n",
    "print('var',var_thr)"
   ]
  },
  {
   "cell_type": "code",
   "execution_count": null,
   "id": "ea573edf",
   "metadata": {},
   "outputs": [],
   "source": [
    "headerrange = 7\n",
    "start_data = '9.0-10.0'\n",
    "end_data = '60.0-61.0'\n",
    "tf_load  = [i*2 for i in range(4,20)]\n",
    "edge_name = 'edge2_M'\n",
    "directoryPath = '/Users/kalika/PycharmProjects/Privacy_SDN_Edge_IoT/PlanB/CPU_utilization_Experiment/version3_Experiment_style/Experiment1/Edge2_iperf_log/'\n",
    "avg_thr2, var_thr2 = readCSV2pd_Thru(directoryPath,tf_load,edge_name,start_data,end_data,headerrange)"
   ]
  },
  {
   "cell_type": "code",
   "execution_count": null,
   "id": "b73249d7",
   "metadata": {},
   "outputs": [],
   "source": [
    "print('avg',avg_thr2)\n",
    "print('var',var_thr2)"
   ]
  },
  {
   "cell_type": "markdown",
   "id": "f4f95bb5",
   "metadata": {},
   "source": [
    "## Plot Throughput"
   ]
  },
  {
   "cell_type": "code",
   "execution_count": null,
   "id": "9bafdf60",
   "metadata": {},
   "outputs": [],
   "source": [
    "fig = plt.figure()\n",
    "\n",
    "ax = fig.add_subplot(1, 1, 1)\n",
    "\n",
    "\n",
    "ax.plot(tf_load, avg_thr, color='green', linestyle='dashed', linewidth = 2,\n",
    "         marker='o', markerfacecolor='green', markersize=10,label=\"Edge 1\")\n",
    "ax.plot(tf_load, avg_thr2, color='red', linestyle='dashed', linewidth = 2,\n",
    "         marker='x', markerfacecolor='red', markersize=10,label=\"Edge 2\")\n",
    "plt.ylim(0,30)\n",
    "plt.xlim(0,40)\n",
    "plt.xlabel('Traffic load $\\lambda_{1,2}$ (Mbps)')\n",
    "# naming the y axis\n",
    "plt.ylabel('Average of CPU utilization (%)')\n",
    "\n",
    "plt.legend()\n",
    "\n",
    "plt.show()"
   ]
  }
 ],
 "metadata": {
  "kernelspec": {
   "display_name": "Python 3",
   "language": "python",
   "name": "python3"
  },
  "language_info": {
   "codemirror_mode": {
    "name": "ipython",
    "version": 3
   },
   "file_extension": ".py",
   "mimetype": "text/x-python",
   "name": "python",
   "nbconvert_exporter": "python",
   "pygments_lexer": "ipython3",
   "version": "3.7.7"
  }
 },
 "nbformat": 4,
 "nbformat_minor": 5
}
