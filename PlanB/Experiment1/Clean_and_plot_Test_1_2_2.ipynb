{
 "cells": [
  {
   "cell_type": "markdown",
   "id": "d11e3507",
   "metadata": {},
   "source": [
    "# Clean data from test1_2.txt to dataframe and Plot Graph\n",
    "- This program is used to export the txt file to dataframe in python. The txt is captured from the experiment#1 in Github. File location : https://github.com/TNatapon/Privacy_SDN_Edge_IoT/blob/main/PlanB/Experiment1/test1_2_edge2.txt"
   ]
  },
  {
   "cell_type": "code",
   "execution_count": 1,
   "id": "3b3d532a",
   "metadata": {},
   "outputs": [],
   "source": [
    "# import library\n",
    "import numpy as np\n",
    "import pandas as pd\n",
    "import matplotlib.pyplot as plt\n",
    "import requests\n",
    "import io"
   ]
  },
  {
   "cell_type": "markdown",
   "id": "96e3c5d3",
   "metadata": {},
   "source": [
    "## Input filename that you want to clean data"
   ]
  },
  {
   "cell_type": "code",
   "execution_count": null,
   "id": "f5f93343",
   "metadata": {},
   "outputs": [],
   "source": []
  }
 ],
 "metadata": {
  "kernelspec": {
   "display_name": "Python 3",
   "language": "python",
   "name": "python3"
  },
  "language_info": {
   "codemirror_mode": {
    "name": "ipython",
    "version": 3
   },
   "file_extension": ".py",
   "mimetype": "text/x-python",
   "name": "python",
   "nbconvert_exporter": "python",
   "pygments_lexer": "ipython3",
   "version": "3.7.7"
  }
 },
 "nbformat": 4,
 "nbformat_minor": 5
}
