{
 "cells": [
  {
   "cell_type": "markdown",
   "metadata": {},
   "source": [
    "# Clean data from txt file"
   ]
  },
  {
   "cell_type": "code",
   "execution_count": 1,
   "metadata": {},
   "outputs": [],
   "source": [
    "import numpy as np"
   ]
  },
  {
   "cell_type": "code",
   "execution_count": 2,
   "metadata": {},
   "outputs": [],
   "source": [
    "import pandas as pd\n",
    "import matplotlib.pyplot as plt\n",
    "import requests\n",
    "import io"
   ]
  },
  {
   "cell_type": "code",
   "execution_count": 42,
   "metadata": {},
   "outputs": [
    {
     "name": "stdout",
     "output_type": "stream",
     "text": [
      "<_io.StringIO object at 0x7fad680d65f0>\n"
     ]
    }
   ],
   "source": [
    "url = 'https://github.com/TNatapon/Privacy_SDN_Edge_IoT/blob/main/PlanB/Experiment1/test1_1.txt'\n",
    "file = io.StringIO(requests.get(url).text)\n",
    "filename = \"/Users/kalika/Desktop/test1_1.txt\"\n",
    "print(file)"
   ]
  },
  {
   "cell_type": "code",
   "execution_count": 4,
   "metadata": {},
   "outputs": [],
   "source": [
    "col_names = ('Interval', 'Transfer','Bitrate', 'Jitter','Lost/Total Datagrams')\n",
    "skip_1 = list(range(0, 10, 1))"
   ]
  },
  {
   "cell_type": "code",
   "execution_count": 5,
   "metadata": {},
   "outputs": [
    {
     "name": "stderr",
     "output_type": "stream",
     "text": [
      "b'Skipping line 42: expected 12 fields, saw 25\\nSkipping line 44: expected 12 fields, saw 13\\nSkipping line 82: expected 12 fields, saw 25\\nSkipping line 84: expected 12 fields, saw 13\\nSkipping line 122: expected 12 fields, saw 25\\nSkipping line 124: expected 12 fields, saw 13\\nSkipping line 162: expected 12 fields, saw 25\\nSkipping line 164: expected 12 fields, saw 13\\nSkipping line 202: expected 12 fields, saw 25\\nSkipping line 204: expected 12 fields, saw 13\\nSkipping line 242: expected 12 fields, saw 25\\nSkipping line 244: expected 12 fields, saw 13\\nSkipping line 282: expected 12 fields, saw 25\\nSkipping line 284: expected 12 fields, saw 13\\nSkipping line 322: expected 12 fields, saw 25\\nSkipping line 324: expected 12 fields, saw 13\\nSkipping line 362: expected 12 fields, saw 25\\nSkipping line 364: expected 12 fields, saw 13\\nSkipping line 402: expected 12 fields, saw 25\\nSkipping line 404: expected 12 fields, saw 13\\n'\n"
     ]
    }
   ],
   "source": [
    "df = pd.read_csv(filename,\n",
    "   skiprows=skip_1,\n",
    "   header=None,\n",
    "   delimiter=' ',\n",
    "   skipinitialspace=True,\n",
    "   error_bad_lines=False)"
   ]
  },
  {
   "cell_type": "code",
   "execution_count": 6,
   "metadata": {},
   "outputs": [
    {
     "name": "stdout",
     "output_type": "stream",
     "text": [
      "    0    1            2         3        4       5           6          7   \\\n",
      "0    [   5]    0.00-1.00       sec     3.96  MBytes        33.2  Mbits/sec   \n",
      "1    [   5]    1.00-2.00       sec     3.99  MBytes        33.5  Mbits/sec   \n",
      "2    [   5]    2.00-3.00       sec     3.94  MBytes        33.1  Mbits/sec   \n",
      "3    [   5]    3.00-4.00       sec     4.00  MBytes        33.6  Mbits/sec   \n",
      "4    [   5]    4.00-5.00       sec     3.95  MBytes        33.2  Mbits/sec   \n",
      "..  ..  ...          ...       ...      ...     ...         ...        ...   \n",
      "369  [   5]  27.00-28.00       sec     3.97  MBytes        33.3  Mbits/sec   \n",
      "370  [   5]  28.00-29.00       sec     3.93  MBytes        33.0  Mbits/sec   \n",
      "371  [   5]  29.00-30.00       sec     3.90  MBytes        32.8  Mbits/sec   \n",
      "372  [   5]  30.00-30.05       sec      184  KBytes        32.5  Mbits/sec   \n",
      "373  [  ID]     Interval  Transfer  Bitrate  Jitter  Lost/Total  Datagrams   \n",
      "\n",
      "        8    9       10    11  \n",
      "0    0.509   ms  0/2867  (0%)  \n",
      "1    0.636   ms  0/2889  (0%)  \n",
      "2    0.722   ms  0/2856  (0%)  \n",
      "3    0.505   ms  0/2897  (0%)  \n",
      "4    0.757   ms  0/2862  (0%)  \n",
      "..     ...  ...     ...   ...  \n",
      "369  0.595   ms  0/2873  (0%)  \n",
      "370  0.501   ms  0/2845  (0%)  \n",
      "371  0.476   ms  0/2827  (0%)  \n",
      "372  0.511   ms   0/130  (0%)  \n",
      "373    NaN  NaN     NaN   NaN  \n",
      "\n",
      "[374 rows x 12 columns]\n"
     ]
    }
   ],
   "source": [
    "print(df)"
   ]
  },
  {
   "cell_type": "code",
   "execution_count": 7,
   "metadata": {},
   "outputs": [
    {
     "name": "stdout",
     "output_type": "stream",
     "text": [
      "  0   1          2    3     4       5     6          7      8   9       10  \\\n",
      "0  [  5]  0.00-1.00  sec  3.96  MBytes  33.2  Mbits/sec  0.509  ms  0/2867   \n",
      "1  [  5]  1.00-2.00  sec  3.99  MBytes  33.5  Mbits/sec  0.636  ms  0/2889   \n",
      "2  [  5]  2.00-3.00  sec  3.94  MBytes  33.1  Mbits/sec  0.722  ms  0/2856   \n",
      "3  [  5]  3.00-4.00  sec  4.00  MBytes  33.6  Mbits/sec  0.505  ms  0/2897   \n",
      "4  [  5]  4.00-5.00  sec  3.95  MBytes  33.2  Mbits/sec  0.757  ms  0/2862   \n",
      "\n",
      "     11  \n",
      "0  (0%)  \n",
      "1  (0%)  \n",
      "2  (0%)  \n",
      "3  (0%)  \n",
      "4  (0%)  \n"
     ]
    }
   ],
   "source": [
    "print(df.head())"
   ]
  },
  {
   "cell_type": "code",
   "execution_count": 9,
   "metadata": {},
   "outputs": [],
   "source": [
    "df = df.drop(labels=range(30, len(df)), axis=0)"
   ]
  },
  {
   "cell_type": "code",
   "execution_count": 10,
   "metadata": {},
   "outputs": [
    {
     "name": "stdout",
     "output_type": "stream",
     "text": [
      "<bound method NDFrame.head of    0   1            2    3     4       5     6          7      8   9       10  \\\n",
      "0   [  5]    0.00-1.00  sec  3.96  MBytes  33.2  Mbits/sec  0.509  ms  0/2867   \n",
      "1   [  5]    1.00-2.00  sec  3.99  MBytes  33.5  Mbits/sec  0.636  ms  0/2889   \n",
      "2   [  5]    2.00-3.00  sec  3.94  MBytes  33.1  Mbits/sec  0.722  ms  0/2856   \n",
      "3   [  5]    3.00-4.00  sec  4.00  MBytes  33.6  Mbits/sec  0.505  ms  0/2897   \n",
      "4   [  5]    4.00-5.00  sec  3.95  MBytes  33.2  Mbits/sec  0.757  ms  0/2862   \n",
      "5   [  5]    5.00-6.00  sec  3.96  MBytes  33.2  Mbits/sec  0.608  ms  0/2865   \n",
      "6   [  5]    6.00-7.00  sec  3.95  MBytes  33.1  Mbits/sec  0.670  ms  0/2858   \n",
      "7   [  5]    7.00-8.00  sec  3.99  MBytes  33.4  Mbits/sec  0.568  ms  0/2886   \n",
      "8   [  5]    8.00-9.00  sec  3.89  MBytes  32.6  Mbits/sec  0.523  ms  0/2815   \n",
      "9   [  5]   9.00-10.00  sec  3.97  MBytes  33.3  Mbits/sec  0.566  ms  0/2877   \n",
      "10  [  5]  10.00-11.00  sec  3.95  MBytes  33.1  Mbits/sec  0.442  ms  0/2858   \n",
      "11  [  5]  11.00-12.00  sec  4.01  MBytes  33.6  Mbits/sec  0.511  ms  0/2903   \n",
      "12  [  5]  12.00-13.00  sec  3.97  MBytes  33.3  Mbits/sec  0.558  ms  0/2873   \n",
      "13  [  5]  13.00-14.00  sec  3.97  MBytes  33.3  Mbits/sec  0.408  ms  0/2878   \n",
      "14  [  5]  14.00-15.00  sec  3.96  MBytes  33.2  Mbits/sec  0.467  ms  0/2865   \n",
      "15  [  5]  15.00-16.00  sec  3.91  MBytes  32.8  Mbits/sec  0.665  ms  0/2833   \n",
      "16  [  5]  16.00-17.00  sec  3.94  MBytes  33.1  Mbits/sec  0.499  ms  0/2854   \n",
      "17  [  5]  17.00-18.00  sec  3.98  MBytes  33.4  Mbits/sec  0.614  ms  0/2879   \n",
      "18  [  5]  18.00-19.00  sec  3.69  MBytes  31.0  Mbits/sec  0.533  ms  0/2675   \n",
      "19  [  5]  19.00-20.00  sec  3.78  MBytes  31.7  Mbits/sec  0.606  ms  0/2738   \n",
      "20  [  5]  20.00-21.00  sec  3.83  MBytes  32.1  Mbits/sec  0.747  ms  0/2775   \n",
      "21  [  5]  21.00-22.00  sec  3.98  MBytes  33.4  Mbits/sec  0.497  ms  0/2881   \n",
      "22  [  5]  22.00-23.00  sec  4.00  MBytes  33.5  Mbits/sec  0.385  ms  0/2896   \n",
      "23  [  5]  23.00-24.00  sec  3.97  MBytes  33.3  Mbits/sec  0.482  ms  0/2878   \n",
      "24  [  5]  24.00-25.00  sec  3.96  MBytes  33.2  Mbits/sec  0.677  ms  0/2865   \n",
      "25  [  5]  25.00-26.00  sec  4.01  MBytes  33.6  Mbits/sec  0.585  ms  0/2904   \n",
      "26  [  5]  26.00-27.00  sec  3.85  MBytes  32.3  Mbits/sec  0.570  ms  0/2788   \n",
      "27  [  5]  27.00-28.00  sec  3.97  MBytes  33.3  Mbits/sec  0.513  ms  0/2875   \n",
      "28  [  5]  28.00-29.00  sec  3.79  MBytes  31.8  Mbits/sec  0.392  ms  0/2748   \n",
      "29  [  5]  29.00-30.00  sec  3.95  MBytes  33.2  Mbits/sec  0.793  ms  0/2863   \n",
      "\n",
      "      11  \n",
      "0   (0%)  \n",
      "1   (0%)  \n",
      "2   (0%)  \n",
      "3   (0%)  \n",
      "4   (0%)  \n",
      "5   (0%)  \n",
      "6   (0%)  \n",
      "7   (0%)  \n",
      "8   (0%)  \n",
      "9   (0%)  \n",
      "10  (0%)  \n",
      "11  (0%)  \n",
      "12  (0%)  \n",
      "13  (0%)  \n",
      "14  (0%)  \n",
      "15  (0%)  \n",
      "16  (0%)  \n",
      "17  (0%)  \n",
      "18  (0%)  \n",
      "19  (0%)  \n",
      "20  (0%)  \n",
      "21  (0%)  \n",
      "22  (0%)  \n",
      "23  (0%)  \n",
      "24  (0%)  \n",
      "25  (0%)  \n",
      "26  (0%)  \n",
      "27  (0%)  \n",
      "28  (0%)  \n",
      "29  (0%)  >\n"
     ]
    }
   ],
   "source": [
    "print(df.head)"
   ]
  },
  {
   "cell_type": "code",
   "execution_count": 11,
   "metadata": {},
   "outputs": [
    {
     "name": "stdout",
     "output_type": "stream",
     "text": [
      "(30, 12)\n"
     ]
    }
   ],
   "source": [
    "print(df.shape)"
   ]
  },
  {
   "cell_type": "code",
   "execution_count": 12,
   "metadata": {},
   "outputs": [
    {
     "name": "stdout",
     "output_type": "stream",
     "text": [
      "<bound method NDFrame.head of              2     4     6      8       10\n",
      "0     0.00-1.00  3.96  33.2  0.509  0/2867\n",
      "1     1.00-2.00  3.99  33.5  0.636  0/2889\n",
      "2     2.00-3.00  3.94  33.1  0.722  0/2856\n",
      "3     3.00-4.00  4.00  33.6  0.505  0/2897\n",
      "4     4.00-5.00  3.95  33.2  0.757  0/2862\n",
      "5     5.00-6.00  3.96  33.2  0.608  0/2865\n",
      "6     6.00-7.00  3.95  33.1  0.670  0/2858\n",
      "7     7.00-8.00  3.99  33.4  0.568  0/2886\n",
      "8     8.00-9.00  3.89  32.6  0.523  0/2815\n",
      "9    9.00-10.00  3.97  33.3  0.566  0/2877\n",
      "10  10.00-11.00  3.95  33.1  0.442  0/2858\n",
      "11  11.00-12.00  4.01  33.6  0.511  0/2903\n",
      "12  12.00-13.00  3.97  33.3  0.558  0/2873\n",
      "13  13.00-14.00  3.97  33.3  0.408  0/2878\n",
      "14  14.00-15.00  3.96  33.2  0.467  0/2865\n",
      "15  15.00-16.00  3.91  32.8  0.665  0/2833\n",
      "16  16.00-17.00  3.94  33.1  0.499  0/2854\n",
      "17  17.00-18.00  3.98  33.4  0.614  0/2879\n",
      "18  18.00-19.00  3.69  31.0  0.533  0/2675\n",
      "19  19.00-20.00  3.78  31.7  0.606  0/2738\n",
      "20  20.00-21.00  3.83  32.1  0.747  0/2775\n",
      "21  21.00-22.00  3.98  33.4  0.497  0/2881\n",
      "22  22.00-23.00  4.00  33.5  0.385  0/2896\n",
      "23  23.00-24.00  3.97  33.3  0.482  0/2878\n",
      "24  24.00-25.00  3.96  33.2  0.677  0/2865\n",
      "25  25.00-26.00  4.01  33.6  0.585  0/2904\n",
      "26  26.00-27.00  3.85  32.3  0.570  0/2788\n",
      "27  27.00-28.00  3.97  33.3  0.513  0/2875\n",
      "28  28.00-29.00  3.79  31.8  0.392  0/2748\n",
      "29  29.00-30.00  3.95  33.2  0.793  0/2863>\n"
     ]
    }
   ],
   "source": [
    "df = df.drop(df.columns[[0,1,3, 5,7,9,11]], axis=1)  \n",
    "print(df.head)"
   ]
  },
  {
   "cell_type": "code",
   "execution_count": 13,
   "metadata": {},
   "outputs": [],
   "source": [
    "columnname = ['Interval', 'Transfer', 'Bitrate','Jitter', 'Lost/Total Datagrams']"
   ]
  },
  {
   "cell_type": "code",
   "execution_count": 20,
   "metadata": {},
   "outputs": [
    {
     "name": "stdout",
     "output_type": "stream",
     "text": [
      "(30, 5)\n"
     ]
    }
   ],
   "source": [
    "print(df.shape)"
   ]
  },
  {
   "cell_type": "code",
   "execution_count": 28,
   "metadata": {},
   "outputs": [
    {
     "name": "stdout",
     "output_type": "stream",
     "text": [
      "2     object\n",
      "4     object\n",
      "6     object\n",
      "8     object\n",
      "10    object\n",
      "dtype: object\n"
     ]
    }
   ],
   "source": [
    "print(df.dtypes)"
   ]
  },
  {
   "cell_type": "code",
   "execution_count": 29,
   "metadata": {},
   "outputs": [
    {
     "name": "stdout",
     "output_type": "stream",
     "text": [
      "0       0.00-1.00\n",
      "1       1.00-2.00\n",
      "2       2.00-3.00\n",
      "3       3.00-4.00\n",
      "4       4.00-5.00\n",
      "5       5.00-6.00\n",
      "6       6.00-7.00\n",
      "7       7.00-8.00\n",
      "8       8.00-9.00\n",
      "9      9.00-10.00\n",
      "10    10.00-11.00\n",
      "11    11.00-12.00\n",
      "12    12.00-13.00\n",
      "13    13.00-14.00\n",
      "14    14.00-15.00\n",
      "15    15.00-16.00\n",
      "16    16.00-17.00\n",
      "17    17.00-18.00\n",
      "18    18.00-19.00\n",
      "19    19.00-20.00\n",
      "20    20.00-21.00\n",
      "21    21.00-22.00\n",
      "22    22.00-23.00\n",
      "23    23.00-24.00\n",
      "24    24.00-25.00\n",
      "25    25.00-26.00\n",
      "26    26.00-27.00\n",
      "27    27.00-28.00\n",
      "28    28.00-29.00\n",
      "29    29.00-30.00\n",
      "Name: 2, dtype: object\n"
     ]
    }
   ],
   "source": [
    "print(df[2])"
   ]
  },
  {
   "cell_type": "code",
   "execution_count": 37,
   "metadata": {},
   "outputs": [],
   "source": [
    "\n",
    "df.rename({2 :'Interval', 4 : 'Transfer', 6 :'Bitrate', 8 :'Jitter', 10 :'Lost/Total Datagrams'}, axis=1, inplace=True)\n"
   ]
  },
  {
   "cell_type": "code",
   "execution_count": 38,
   "metadata": {},
   "outputs": [
    {
     "name": "stdout",
     "output_type": "stream",
     "text": [
      "<bound method NDFrame.head of        Interval Transfer Bitrate Jitter Lost/Total Datagrams\n",
      "0     0.00-1.00     3.96    33.2  0.509               0/2867\n",
      "1     1.00-2.00     3.99    33.5  0.636               0/2889\n",
      "2     2.00-3.00     3.94    33.1  0.722               0/2856\n",
      "3     3.00-4.00     4.00    33.6  0.505               0/2897\n",
      "4     4.00-5.00     3.95    33.2  0.757               0/2862\n",
      "5     5.00-6.00     3.96    33.2  0.608               0/2865\n",
      "6     6.00-7.00     3.95    33.1  0.670               0/2858\n",
      "7     7.00-8.00     3.99    33.4  0.568               0/2886\n",
      "8     8.00-9.00     3.89    32.6  0.523               0/2815\n",
      "9    9.00-10.00     3.97    33.3  0.566               0/2877\n",
      "10  10.00-11.00     3.95    33.1  0.442               0/2858\n",
      "11  11.00-12.00     4.01    33.6  0.511               0/2903\n",
      "12  12.00-13.00     3.97    33.3  0.558               0/2873\n",
      "13  13.00-14.00     3.97    33.3  0.408               0/2878\n",
      "14  14.00-15.00     3.96    33.2  0.467               0/2865\n",
      "15  15.00-16.00     3.91    32.8  0.665               0/2833\n",
      "16  16.00-17.00     3.94    33.1  0.499               0/2854\n",
      "17  17.00-18.00     3.98    33.4  0.614               0/2879\n",
      "18  18.00-19.00     3.69    31.0  0.533               0/2675\n",
      "19  19.00-20.00     3.78    31.7  0.606               0/2738\n",
      "20  20.00-21.00     3.83    32.1  0.747               0/2775\n",
      "21  21.00-22.00     3.98    33.4  0.497               0/2881\n",
      "22  22.00-23.00     4.00    33.5  0.385               0/2896\n",
      "23  23.00-24.00     3.97    33.3  0.482               0/2878\n",
      "24  24.00-25.00     3.96    33.2  0.677               0/2865\n",
      "25  25.00-26.00     4.01    33.6  0.585               0/2904\n",
      "26  26.00-27.00     3.85    32.3  0.570               0/2788\n",
      "27  27.00-28.00     3.97    33.3  0.513               0/2875\n",
      "28  28.00-29.00     3.79    31.8  0.392               0/2748\n",
      "29  29.00-30.00     3.95    33.2  0.793               0/2863>\n"
     ]
    }
   ],
   "source": [
    "print(df.head)"
   ]
  },
  {
   "cell_type": "code",
   "execution_count": 41,
   "metadata": {},
   "outputs": [
    {
     "name": "stdout",
     "output_type": "stream",
     "text": [
      "0       0.00-1.00\n",
      "1       1.00-2.00\n",
      "2       2.00-3.00\n",
      "3       3.00-4.00\n",
      "4       4.00-5.00\n",
      "5       5.00-6.00\n",
      "6       6.00-7.00\n",
      "7       7.00-8.00\n",
      "8       8.00-9.00\n",
      "9      9.00-10.00\n",
      "10    10.00-11.00\n",
      "11    11.00-12.00\n",
      "12    12.00-13.00\n",
      "13    13.00-14.00\n",
      "14    14.00-15.00\n",
      "15    15.00-16.00\n",
      "16    16.00-17.00\n",
      "17    17.00-18.00\n",
      "18    18.00-19.00\n",
      "19    19.00-20.00\n",
      "20    20.00-21.00\n",
      "21    21.00-22.00\n",
      "22    22.00-23.00\n",
      "23    23.00-24.00\n",
      "24    24.00-25.00\n",
      "25    25.00-26.00\n",
      "26    26.00-27.00\n",
      "27    27.00-28.00\n",
      "28    28.00-29.00\n",
      "29    29.00-30.00\n",
      "Name: Interval, dtype: object\n"
     ]
    }
   ],
   "source": [
    "print(df['Interval'])"
   ]
  },
  {
   "cell_type": "code",
   "execution_count": null,
   "metadata": {},
   "outputs": [],
   "source": []
  }
 ],
 "metadata": {
  "kernelspec": {
   "display_name": "Python 3",
   "language": "python",
   "name": "python3"
  },
  "language_info": {
   "codemirror_mode": {
    "name": "ipython",
    "version": 3
   },
   "file_extension": ".py",
   "mimetype": "text/x-python",
   "name": "python",
   "nbconvert_exporter": "python",
   "pygments_lexer": "ipython3",
   "version": "3.7.7"
  }
 },
 "nbformat": 4,
 "nbformat_minor": 4
}
