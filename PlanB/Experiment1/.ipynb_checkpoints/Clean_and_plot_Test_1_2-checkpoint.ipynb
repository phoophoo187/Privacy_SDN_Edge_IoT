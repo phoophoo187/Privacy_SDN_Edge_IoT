{
 "cells": [
  {
   "cell_type": "markdown",
   "id": "15fe1d10",
   "metadata": {},
   "source": [
    "# Clean data from test1_2.txt to dataframe and Plot Graph\n",
    "\n",
    "- This program is used to export the txt file to dataframe in python. The txt is captured from the experiment#1 in Github. File location : https://github.com/TNatapon/Privacy_SDN_Edge_IoT/blob/main/PlanB/Experiment1/test1_2_edge1.txt"
   ]
  },
  {
   "cell_type": "code",
   "execution_count": null,
   "id": "5a7ff1ed",
   "metadata": {},
   "outputs": [],
   "source": [
    "# import library\n",
    "import numpy as np\n",
    "import pandas as pd\n",
    "import matplotlib.pyplot as plt\n",
    "import requests\n",
    "import io\n"
   ]
  },
  {
   "cell_type": "markdown",
   "id": "da8ab060",
   "metadata": {},
   "source": [
    "# Input filename that you want to clean data"
   ]
  },
  {
   "cell_type": "code",
   "execution_count": null,
   "id": "d346ffd5",
   "metadata": {},
   "outputs": [],
   "source": [
    "# this pandas version dose not support directlly loading the file from url.\n",
    "url = 'https://github.com/TNatapon/Privacy_SDN_Edge_IoT/blob/main/PlanB/Experiment1/test1_2.txt'\n",
    "filename = \"/Users/kalika/Desktop/test1_2.txt\""
   ]
  }
 ],
 "metadata": {
  "kernelspec": {
   "display_name": "Python 3",
   "language": "python",
   "name": "python3"
  },
  "language_info": {
   "codemirror_mode": {
    "name": "ipython",
    "version": 3
   },
   "file_extension": ".py",
   "mimetype": "text/x-python",
   "name": "python",
   "nbconvert_exporter": "python",
   "pygments_lexer": "ipython3",
   "version": "3.7.7"
  }
 },
 "nbformat": 4,
 "nbformat_minor": 5
}
