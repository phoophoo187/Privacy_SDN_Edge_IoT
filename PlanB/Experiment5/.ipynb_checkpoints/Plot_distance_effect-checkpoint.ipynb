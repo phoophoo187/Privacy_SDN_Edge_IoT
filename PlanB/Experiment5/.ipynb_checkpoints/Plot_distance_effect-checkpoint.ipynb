{
 "cells": [
  {
   "cell_type": "markdown",
   "id": "ea96918a",
   "metadata": {},
   "source": [
    "## Plot the effect of distance (Experiment 5)\n",
    "- Read from files in the data path \n",
    "- Plot avg throughput and avg jitter \n",
    "- data path : "
   ]
  },
  {
   "cell_type": "code",
   "execution_count": 1,
   "id": "d0027e20",
   "metadata": {},
   "outputs": [],
   "source": [
    "import os\n",
    "import numpy as np\n",
    "import pandas as pd\n",
    "import matplotlib.pyplot as plt\n",
    "import requests\n",
    "import io"
   ]
  },
  {
   "cell_type": "markdown",
   "id": "4f09f6f1",
   "metadata": {},
   "source": [
    "# Input Data Path"
   ]
  },
  {
   "cell_type": "code",
   "execution_count": 2,
   "id": "0f3b4520",
   "metadata": {},
   "outputs": [],
   "source": [
    "entries = '/Users/kalika/PycharmProjects/Privacy_SDN_Edge_IoT/PlanB/Experiment5/'\n",
    "distance = ['5cm.csv','50cm.csv','100cm.csv','200cm.csv','300cm.csv','400cm.csv','500cm.csv','750cm.csv']\n"
   ]
  },
  {
   "cell_type": "code",
   "execution_count": 3,
   "id": "a2be0bd2",
   "metadata": {},
   "outputs": [],
   "source": [
    "def getDatafromTxT(filename, headerrange):\n",
    "    \"\"\"\n",
    "    Get dataframe from txt file:\n",
    "    filename : xxx.txt\n",
    "    headerrange : number of lines that needed to be removed. \n",
    "    \n",
    "    return : df : datafame type\n",
    "    \"\"\"\n",
    "    h = headerrange + 1\n",
    "    skip_1 = list(range(0,h, 1))\n",
    "    df = pd.read_csv(filename,\n",
    "        skiprows=skip_1,\n",
    "        header=None,\n",
    "        delimiter=',',\n",
    "        skipinitialspace=True,\n",
    "        error_bad_lines=False)\n",
    "    return df"
   ]
  },
  {
   "cell_type": "code",
   "execution_count": 4,
   "id": "947c8d72",
   "metadata": {},
   "outputs": [],
   "source": [
    "def getCSVfileneme(entries,distance):\n",
    "    \"\"\"\n",
    "    Collect dataframe in a list \n",
    "    Input: \n",
    "        entries : '/datapath/'\n",
    "        distance : ['5cm.csv','50cm.csv','100cm.csv','200cm.csv','300cm.csv','400cm.csv','500cm.csv','750cm.csv'] \n",
    "    Output: \n",
    "        df_file : [csv1,csv2,...]        \n",
    "    \"\"\"\n",
    "    filecsv = []\n",
    "    for f_name in os.listdir(entries):\n",
    "        if f_name.endswith('.csv'):\n",
    "            filecsv.append(f_name)\n",
    "    df_file = []\n",
    "    DF_list= list()\n",
    "    i = 0\n",
    "    for d in distance:\n",
    "        for f in filecsv:\n",
    "            ff = f.split('_')\n",
    "            if ff[1] == d:\n",
    "                df_file.append(f)\n",
    "    return df_file\n",
    "        \n",
    "    "
   ]
  },
  {
   "cell_type": "code",
   "execution_count": 5,
   "id": "408788cf",
   "metadata": {},
   "outputs": [],
   "source": [
    "df_file = getCSVfileneme(entries,distance)"
   ]
  },
  {
   "cell_type": "code",
   "execution_count": 6,
   "id": "1cecd27d",
   "metadata": {},
   "outputs": [
    {
     "name": "stdout",
     "output_type": "stream",
     "text": [
      "['test5_5cm.csv', 'test5_50cm.csv', 'test5_100cm.csv', 'test5_200cm.csv', 'test5_300cm.csv', 'test5_400cm.csv', 'test5_500cm.csv', 'test5_750cm.csv']\n"
     ]
    }
   ],
   "source": [
    "print(df_file)"
   ]
  },
  {
   "cell_type": "code",
   "execution_count": 7,
   "id": "6ca6bdfb",
   "metadata": {},
   "outputs": [
    {
     "name": "stdout",
     "output_type": "stream",
     "text": [
      "<bound method NDFrame.head of        0            1     2     3      4       5    6    7\n",
      "0      1    1.00-2.00  3.98  33.4  0.672  0/2884 -1.0 -1.0\n",
      "1      2    2.00-3.00  4.02  33.7  0.773  0/2908 -1.0 -1.0\n",
      "2      3    3.00-4.00  4.03  33.8  0.507  0/2918 -1.0 -1.0\n",
      "3      4    4.00-5.00  4.01  33.7  0.522  0/2905 -1.0 -1.0\n",
      "4      5    5.00-6.00  3.93  33.0  0.691  0/2847 -1.0 -1.0\n",
      "..   ...          ...   ...   ...    ...     ...  ...  ...\n",
      "284  366  24.00-25.00  3.88  32.5  0.507  0/2810 -1.0 -1.0\n",
      "285  367  25.00-26.00  3.86  32.4  0.631  0/2797 -1.0 -1.0\n",
      "286  368  26.00-27.00  3.93  33.0  0.579  0/2849 -1.0 -1.0\n",
      "287  369  27.00-28.00  3.97  33.3  0.613  0/2876 -1.0 -1.0\n",
      "288  370  28.00-29.00  3.92  32.9  0.650  0/2842 -1.0 -1.0\n",
      "\n",
      "[289 rows x 8 columns]>\n",
      "avg Throughput : 32.63840830449827\n",
      "var Throughput : 0.8921655132641261\n",
      "avg Jitter : 0.5963564013840831\n",
      "var Jitter : 0.028683639898116096\n",
      "<bound method NDFrame.head of        0            1     2     3      4       5    6    7\n",
      "0      1    1.00-2.00  3.99  33.5  0.806  0/2890 -1.0 -1.0\n",
      "1      2    2.00-3.00  4.03  33.8  0.512  0/2917 -1.0 -1.0\n",
      "2      3    3.00-4.00  4.00  33.6  0.554  0/2899 -1.0 -1.0\n",
      "3      4    4.00-5.00  4.04  33.9  0.719  0/2924 -1.0 -1.0\n",
      "4      5    5.00-6.00  4.03  33.8  0.522  0/2918 -1.0 -1.0\n",
      "..   ...          ...   ...   ...    ...     ...  ...  ...\n",
      "284  366  24.00-25.00  3.94  33.0  0.457  0/2853 -1.0 -1.0\n",
      "285  367  25.00-26.00  4.02  33.7  0.518  0/2911 -1.0 -1.0\n",
      "286  368  26.00-27.00  3.98  33.4  0.551  0/2882 -1.0 -1.0\n",
      "287  369  27.00-28.00  3.99  33.5  0.536  0/2891 -1.0 -1.0\n",
      "288  370  28.00-29.00  3.70  31.0  0.802  0/2677 -1.0 -1.0\n",
      "\n",
      "[289 rows x 8 columns]>\n",
      "avg Throughput : 32.72906574394464\n",
      "var Throughput : 1.106096693579392\n",
      "avg Jitter : 0.6009550173010381\n",
      "var Jitter : 0.04046744588619759\n",
      "<bound method NDFrame.head of        0            1     2     3      4       5    6    7\n",
      "0      1    1.00-2.00  3.79  31.8  0.605  0/2747 -1.0 -1.0\n",
      "1      2    2.00-3.00  3.71  31.1  0.720  0/2688 -1.0 -1.0\n",
      "2      3    3.00-4.00  3.71  31.1  0.689  0/2683 -1.0 -1.0\n",
      "3      4    4.00-5.00  3.91  32.8  0.612  0/2832 -1.0 -1.0\n",
      "4      5    5.00-6.00  3.88  32.5  0.802  0/2809 -1.0 -1.0\n",
      "..   ...          ...   ...   ...    ...     ...  ...  ...\n",
      "284  366  24.00-25.00  3.98  33.4  0.587  0/2884 -1.0 -1.0\n",
      "285  367  25.00-26.00  4.02  33.8  0.483  0/2914 -1.0 -1.0\n",
      "286  368  26.00-27.00  3.99  33.5  0.583  0/2889 -1.0 -1.0\n",
      "287  369  27.00-28.00  3.89  32.6  0.791  0/2814 -1.0 -1.0\n",
      "288  370  28.00-29.00  3.81  32.0  0.588  0/2762 -1.0 -1.0\n",
      "\n",
      "[289 rows x 8 columns]>\n",
      "avg Throughput : 32.391003460207614\n",
      "var Throughput : 0.9730437812379856\n",
      "avg Jitter : 0.6017266435986159\n",
      "var Jitter : 0.023553067377931548\n",
      "<bound method NDFrame.head of        0            1     2     3      4       5    6    7\n",
      "0      1    1.00-2.00  3.69  31.0  0.626  0/2673 -1.0 -1.0\n",
      "1      2    2.00-3.00  3.75  31.5  0.662  0/2716 -1.0 -1.0\n",
      "2      3    3.00-4.00  3.79  31.8  0.674  0/2742 -1.0 -1.0\n",
      "3      4    4.00-5.00  3.71  31.1  0.488  0/2688 -1.0 -1.0\n",
      "4      5    5.00-6.00  3.53  29.6  0.476  0/2559 -1.0 -1.0\n",
      "..   ...          ...   ...   ...    ...     ...  ...  ...\n",
      "284  366  24.00-25.00  3.69  30.9  0.598  0/2671 -1.0 -1.0\n",
      "285  367  25.00-26.00  3.46  29.0  0.814  0/2505 -1.0 -1.0\n",
      "286  368  26.00-27.00  3.50  29.4  0.650  0/2538 -1.0 -1.0\n",
      "287  369  27.00-28.00  3.77  31.6  0.745  0/2732 -1.0 -1.0\n",
      "288  370  28.00-29.00  3.76  31.6  0.500  0/2724 -1.0 -1.0\n",
      "\n",
      "[289 rows x 8 columns]>\n",
      "avg Throughput : 31.07854671280277\n",
      "var Throughput : 0.8372464917339497\n",
      "avg Jitter : 0.6178581314878892\n",
      "var Jitter : 0.01392983744232988\n",
      "<bound method NDFrame.head of        0            1     2     3      4       5    6    7\n",
      "0      1    1.00-2.00  3.71  31.1  0.652  0/2683 -1.0 -1.0\n",
      "1      2    2.00-3.00  3.38  28.3  0.596  0/2447 -1.0 -1.0\n",
      "2      3    3.00-4.00  2.93  24.6  0.594  0/2123 -1.0 -1.0\n",
      "3      4    4.00-5.00  3.47  29.1  0.493  0/2511 -1.0 -1.0\n",
      "4      5    5.00-6.00  3.63  30.4  0.521  0/2628 -1.0 -1.0\n",
      "..   ...          ...   ...   ...    ...     ...  ...  ...\n",
      "284  366  24.00-25.00  3.71  31.1  0.865  0/2685 -1.0 -1.0\n",
      "285  367  25.00-26.00  3.67  30.8  0.569  0/2659 -1.0 -1.0\n",
      "286  368  26.00-27.00  3.70  31.1  0.712  0/2681 -1.0 -1.0\n",
      "287  369  27.00-28.00  3.73  31.3  0.583  0/2703 -1.0 -1.0\n",
      "288  370  28.00-29.00  3.71  31.1  0.470  0/2686 -1.0 -1.0\n",
      "\n",
      "[289 rows x 8 columns]>\n",
      "avg Throughput : 30.451211072664357\n",
      "var Throughput : 1.373062764321417\n",
      "avg Jitter : 0.6321764705882353\n",
      "var Jitter : 0.01922122222222221\n",
      "<bound method NDFrame.head of        0            1     2     3      4       5    6    7\n",
      "0      1    1.00-2.00  3.72  31.2  0.619  0/2691 -1.0 -1.0\n",
      "1      2    2.00-3.00  3.67  30.8  0.379  0/2656 -1.0 -1.0\n",
      "2      3    3.00-4.00  3.64  30.5  0.858  0/2636 -1.0 -1.0\n",
      "3      4    4.00-5.00  3.60  30.2  0.632  0/2608 -1.0 -1.0\n",
      "4      5    5.00-6.00  3.71  31.1  0.556  0/2686 -1.0 -1.0\n",
      "..   ...          ...   ...   ...    ...     ...  ...  ...\n",
      "284  366  24.00-25.00  3.62  30.4  0.720  0/2625 -1.0 -1.0\n",
      "285  367  25.00-26.00  3.72  31.2  0.594  0/2693 -1.0 -1.0\n",
      "286  368  26.00-27.00  3.64  30.5  0.739  0/2635 -1.0 -1.0\n",
      "287  369  27.00-28.00  3.55  29.8  0.733  0/2573 -1.0 -1.0\n",
      "288  370  28.00-29.00  3.67  30.8  0.589  0/2660 -1.0 -1.0\n",
      "\n",
      "[289 rows x 8 columns]>\n",
      "avg Throughput : 30.254671280276817\n",
      "var Throughput : 1.6781117839292565\n",
      "avg Jitter : 0.6294671280276817\n",
      "var Jitter : 0.015774881728181464\n",
      "<bound method NDFrame.head of        0            1     2     3      4       5    6    7\n",
      "0      1    1.00-2.00  3.66  30.7  0.503  0/2651 -1.0 -1.0\n",
      "1      2    2.00-3.00  3.68  30.9  0.751  0/2665 -1.0 -1.0\n",
      "2      3    3.00-4.00  3.92  32.9  0.455  0/2837 -1.0 -1.0\n",
      "3      4    4.00-5.00  3.72  31.2  0.746  0/2695 -1.0 -1.0\n",
      "4      5    5.00-6.00  3.61  30.2  0.576  0/2611 -1.0 -1.0\n",
      "..   ...          ...   ...   ...    ...     ...  ...  ...\n",
      "284  365  24.00-25.00  3.79  31.8  0.603  0/2741 -1.0 -1.0\n",
      "285  366  25.00-26.00  3.71  31.2  0.444  0/2690 -1.0 -1.0\n",
      "286  367  26.00-27.00  3.28  27.5  0.605  0/2377 -1.0 -1.0\n",
      "287  368  27.00-28.00  2.87  24.1  1.043  0/2080 -1.0 -1.0\n",
      "288  369  28.00-29.00  3.58  30.0  1.161  0/2593 -1.0 -1.0\n",
      "\n",
      "[289 rows x 8 columns]>\n",
      "avg Throughput : 28.455363321799304\n",
      "var Throughput : 12.874215926566704\n",
      "avg Jitter : 0.7205847750865053\n",
      "var Jitter : 0.08938084087850824\n",
      "<bound method NDFrame.head of        0            1     2     3      4       5    6    7\n",
      "0      1    1.00-2.00  1.37  11.5  0.963   0/991 -1.0 -1.0\n",
      "1      2    2.00-3.00  1.88  15.7  1.664  0/1359 -1.0 -1.0\n",
      "2      3    3.00-4.00  2.01  16.8  1.208  0/1452 -1.0 -1.0\n",
      "3      4    4.00-5.00  2.17  18.2  0.694  0/1569 -1.0 -1.0\n",
      "4      5    5.00-6.00  3.05  25.6  0.599  0/2212 -1.0 -1.0\n",
      "..   ...          ...   ...   ...    ...     ...  ...  ...\n",
      "284  366  24.00-25.00  2.84  23.9  0.859  0/2060 -1.0 -1.0\n",
      "285  367  25.00-26.00  3.17  26.6  0.633  0/2298 -1.0 -1.0\n",
      "286  368  26.00-27.00  2.58  21.7  0.887  0/1870 -1.0 -1.0\n",
      "287  369  27.00-28.00  3.10  26.0  0.771  0/2243 -1.0 -1.0\n",
      "288  370  28.00-29.00  2.57  21.6  0.829  0/1864 -1.0 -1.0\n",
      "\n",
      "[289 rows x 8 columns]>\n",
      "avg Throughput : 22.16993079584775\n",
      "var Throughput : 29.25607499519417\n",
      "avg Jitter : 0.9687889273356401\n",
      "var Jitter : 0.21166317404363705\n"
     ]
    }
   ],
   "source": [
    "avgThr = []\n",
    "varThr = []\n",
    "avgJitter = []\n",
    "varJitter = []\n",
    "\n",
    "for d in df_file:\n",
    "    df = getDatafromTxT(d, 0)\n",
    "    print(df.head)\n",
    "    df = df.drop(df.columns[[6,7]], axis=1)  \n",
    "    df.rename({1 :'Interval', 2 : 'Transfer', 3 :'Bitrate', 4 :'Jitter', 5 :'Lost/Total Datagrams'}, axis=1, inplace=True)\n",
    "\n",
    "\n",
    "    time = np.array(range(len(df.index)))\n",
    "\n",
    "    df['Time'] = time\n",
    "    df['Time'] = df['Time'].astype(int) \n",
    "\n",
    "    \n",
    "    # avergae throughput \n",
    "    sumThroughput = df['Bitrate'].sum()\n",
    "    avgSumThroughput = sumThroughput/len(time)\n",
    "    print('avg Throughput :', avgSumThroughput)\n",
    "    print('var Throughput :', df['Bitrate'].var())\n",
    "    \n",
    "    avgThr.append(avgSumThroughput)\n",
    "    varThr.append(df['Bitrate'].var())\n",
    "    \n",
    "    # avergae jitter \n",
    "    df['Jitter'] = df['Jitter'].astype(float) \n",
    "    sumJitter = df['Jitter'].sum()\n",
    "    avgSumJitter = sumJitter/len(time)\n",
    "    print('avg Jitter :', avgSumJitter)\n",
    "    print('var Jitter :', df['Jitter'].var())\n",
    "    \n",
    "    \n",
    "    avgJitter.append(avgSumJitter)\n",
    "    varJitter.append(df['Jitter'].var())\n",
    "    "
   ]
  },
  {
   "cell_type": "code",
   "execution_count": 8,
   "id": "e777cf10",
   "metadata": {},
   "outputs": [
    {
     "name": "stdout",
     "output_type": "stream",
     "text": [
      "avg Jitter =  [0.5963564013840831, 0.6009550173010381, 0.6017266435986159, 0.6178581314878892, 0.6321764705882353, 0.6294671280276817, 0.7205847750865053, 0.9687889273356401]\n",
      "avg Throughput =  [32.63840830449827, 32.72906574394464, 32.391003460207614, 31.07854671280277, 30.451211072664357, 30.254671280276817, 28.455363321799304, 22.16993079584775]\n"
     ]
    }
   ],
   "source": [
    "print('avg Jitter = ',avgJitter)\n",
    "print('avg Throughput = ',  avgThr)"
   ]
  },
  {
   "cell_type": "markdown",
   "id": "5e109541",
   "metadata": {},
   "source": [
    "## Plot graph"
   ]
  },
  {
   "cell_type": "code",
   "execution_count": 15,
   "id": "ac07ad44",
   "metadata": {},
   "outputs": [
    {
     "data": {
      "text/plain": [
       "Text(0, 0.5, 'Jitter (sec)')"
      ]
     },
     "execution_count": 15,
     "metadata": {},
     "output_type": "execute_result"
    },
    {
     "data": {
      "image/png": "[encoded data removed]",
      "text/plain": [
       "<Figure size 576x288 with 2 Axes>"
      ]
     },
     "metadata": {
      "needs_background": "light"
     },
     "output_type": "display_data"
    }
   ],
   "source": [
    "X = [5,50,100,200,300,400,500,750]\n",
    "fig, (ax1, ax2) = plt.subplots(nrows=2, ncols=1,figsize=(8, 4))\n",
    "ax1.plot(X, avgThr, marker='o')\n",
    "ax1.set_xlabel('Distance (cm)')\n",
    "ax1.set_ylabel('Throughput (Mbits/sec)')\n",
    "\n",
    "\n",
    "ax2.plot(X, avgJitter, marker='x', color='r')\n",
    "ax2.set_xlabel('Distance (cm)')\n",
    "ax2.set_ylabel('Jitter (sec)')\n"
   ]
  },
  {
   "cell_type": "code",
   "execution_count": null,
   "id": "a79c302c",
   "metadata": {},
   "outputs": [],
   "source": []
  }
 ],
 "metadata": {
  "kernelspec": {
   "display_name": "Python 3",
   "language": "python",
   "name": "python3"
  },
  "language_info": {
   "codemirror_mode": {
    "name": "ipython",
    "version": 3
   },
   "file_extension": ".py",
   "mimetype": "text/x-python",
   "name": "python",
   "nbconvert_exporter": "python",
   "pygments_lexer": "ipython3",
   "version": "3.7.7"
  }
 },
 "nbformat": 4,
 "nbformat_minor": 5
}
