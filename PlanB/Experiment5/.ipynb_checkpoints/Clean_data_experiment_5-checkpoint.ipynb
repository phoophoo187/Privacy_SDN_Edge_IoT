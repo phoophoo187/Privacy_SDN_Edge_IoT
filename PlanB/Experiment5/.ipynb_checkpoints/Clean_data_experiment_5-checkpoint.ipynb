{
 "cells": [
  {
   "cell_type": "markdown",
   "id": "e8e13fc8",
   "metadata": {},
   "source": [
    "# Clean Data of the results of experiment 5\n",
    "- This program is used to export the txt file to dataframe in python. The txt is captured from the experiment#5 in Github. File location : https://github.com/tawanmeow/privacy-sdn-logfile/tree/main/Experiment5"
   ]
  },
  {
   "cell_type": "code",
   "execution_count": null,
   "id": "75e9c71b",
   "metadata": {},
   "outputs": [],
   "source": [
    "# import library\n",
    "import numpy as np\n",
    "import pandas as pd\n",
    "import matplotlib.pyplot as plt\n",
    "import requests\n",
    "import io"
   ]
  },
  {
   "cell_type": "markdown",
   "id": "767383f7",
   "metadata": {},
   "source": [
    "## Input filename that you want to clean data"
   ]
  },
  {
   "cell_type": "code",
   "execution_count": null,
   "id": "bd7eefa2",
   "metadata": {},
   "outputs": [],
   "source": [
    "# this pandas version dose not support directlly loading the file from url.\n",
    "url = 'https://github.com/tawanmeow/privacy-sdn-logfile/tree/main/Experiment5'\n",
    "filename = \"/Users/kalika/PycharmProjects/Privacy_SDN_Edge_IoT/PlanB/Experiment5/test5_5cm.txt\""
   ]
  },
  {
   "cell_type": "markdown",
   "id": "22e324d2",
   "metadata": {},
   "source": [
    "## Functions for getting the throughput data from dataframe df"
   ]
  },
  {
   "cell_type": "code",
   "execution_count": null,
   "id": "37a145db",
   "metadata": {},
   "outputs": [],
   "source": [
    "def getDataframeThru(df,start_row,measurement_interval,header_range):\n",
    "    '''\n",
    "    This functions will import the data from txt file and return the dataframe without the header of txt file.\n",
    "    Input: \n",
    "        measurement_interval = 30 (sec) : \n",
    "        header_range = 10 lines\n",
    "        start_row = 0 \n",
    "    Return: \n",
    "        df1t : dataframe of througput and jitter\n",
    "    '''\n",
    "    \n",
    "    df1 = df.drop(labels=range(start_row, header_range), axis=0)\n",
    "    df1t = df1.drop(labels=range(measurement_interval, len(df)), axis=0)\n",
    "    \n",
    "    return df1t"
   ]
  },
  {
   "cell_type": "code",
   "execution_count": null,
   "id": "f9b5bb22",
   "metadata": {},
   "outputs": [],
   "source": [
    "def getDatafromTxT(filename, headerrange):\n",
    "    \"\"\"\n",
    "    Get dataframe from txt file:\n",
    "    filename : xxx.txt\n",
    "    headerrange : number of lines that needed to be removed. \n",
    "    \n",
    "    return : df : datafame type\n",
    "    \"\"\"\n",
    "    h = headerrange + 1\n",
    "    skip_1 = list(range(0,h, 1))\n",
    "    df = pd.read_csv(filename,\n",
    "        skiprows=skip_1,\n",
    "        header=None,\n",
    "        delimiter=' ',\n",
    "        skipinitialspace=True,\n",
    "        error_bad_lines=False)\n",
    "    return df\n",
    "    "
   ]
  },
  {
   "cell_type": "markdown",
   "id": "dd70046d",
   "metadata": {},
   "source": [
    "## Run functions: "
   ]
  },
  {
   "cell_type": "code",
   "execution_count": null,
   "id": "329073ff",
   "metadata": {},
   "outputs": [],
   "source": [
    "headerrange = 10\n",
    "filename = \"/Users/kalika/PycharmProjects/Privacy_SDN_Edge_IoT/PlanB/Experiment5/test5_5cm.txt\"\n",
    "\n",
    "df = getDatafromTxT(filename, headerrange)\n",
    "print(df.head)"
   ]
  },
  {
   "cell_type": "code",
   "execution_count": null,
   "id": "142cb8f5",
   "metadata": {},
   "outputs": [],
   "source": [
    "## Find start row index of itteration\n",
    "def getStartEndID(df,start_data,end_data):\n",
    "    \"\"\"\n",
    "    to clean dataframe and return the data with new header\n",
    "    Input: \n",
    "        df : datafram without header of txt file \n",
    "    Output\n",
    "        strat_indices_list : start indices list\n",
    "    \"\"\"\n",
    "    # creating and passing series to new column\n",
    "    df[\"Start\"]= df[2].str.find(start_data)\n",
    "    df[\"End\"]= df[2].str.find(end_data)\n",
    "\n",
    "    index = df.index\n",
    "    strat_indices = index[df[\"Start\"]==0.0]\n",
    "    strat_indices_list = strat_indices.tolist()\n",
    "    end_indices = index[df[\"End\"]==0.0]\n",
    "    end_indices_list = end_indices.tolist()\n",
    "    \n",
    "    \n",
    "    return strat_indices_list, end_indices_list\n",
    "    "
   ]
  },
  {
   "cell_type": "code",
   "execution_count": null,
   "id": "bf4b5443",
   "metadata": {},
   "outputs": [],
   "source": [
    "def getCleanData(df,strat_indices_list,end_indices_list):\n",
    "    \"\"\"\n",
    "    \n",
    "    \"\"\"\n",
    "    df_all = df.drop(labels=range(1, len(df)), axis=0) # create new df\n",
    "    start_row = 0\n",
    "    c = 0\n",
    "    for i in strat_indices_list: \n",
    "        \n",
    "        h = i\n",
    "        m = end_indices_list[c]\n",
    "        df1 = getDataframeThru(df,start_row,m,h)\n",
    "        result = pd.concat([df_all,df1])\n",
    "        df_all = result\n",
    "        c = c + 1\n",
    "        if i == 0:\n",
    "            \n",
    "            df_all = df.drop(labels=0, axis=0)\n",
    "        \n",
    "        \n",
    "    return df_all"
   ]
  },
  {
   "cell_type": "markdown",
   "id": "3dd3dc5a",
   "metadata": {},
   "source": [
    "## Run functions"
   ]
  },
  {
   "cell_type": "code",
   "execution_count": null,
   "id": "a461ffa2",
   "metadata": {},
   "outputs": [],
   "source": [
    "start_data = '0.00-1.00'\n",
    "end_data = '30.00-30.05'\n",
    "strat_indices_list, end_indices_list = getStartEndID(df,start_data,end_data)\n",
    "df_all = getCleanData(df,strat_indices_list,end_indices_list)"
   ]
  },
  {
   "cell_type": "markdown",
   "id": "1e9bfdcc",
   "metadata": {},
   "source": [
    "print(df_all)"
   ]
  },
  {
   "cell_type": "code",
   "execution_count": null,
   "id": "9424f423",
   "metadata": {},
   "outputs": [],
   "source": [
    "# Replace new columns header\n",
    "\n",
    "df_all_new = df_all.drop(df_all.columns[[0,1,3, 5,7,9,11]], axis=1)  \n"
   ]
  },
  {
   "cell_type": "code",
   "execution_count": null,
   "id": "c0bcf949",
   "metadata": {},
   "outputs": [],
   "source": [
    "df_all_new.rename({2 :'Interval', 4 : 'Transfer', 6 :'Bitrate', 8 :'Jitter', 10 :'Lost/Total Datagrams', 'Indexes' : 'ID'}, axis=1, inplace=True)\n"
   ]
  },
  {
   "cell_type": "code",
   "execution_count": null,
   "id": "233e551d",
   "metadata": {},
   "outputs": [],
   "source": [
    "print(df_all_new)"
   ]
  },
  {
   "cell_type": "code",
   "execution_count": null,
   "id": "13ff3c53",
   "metadata": {},
   "outputs": [],
   "source": [
    "# export dataframe to csv \n",
    "filename_csv = \"/Users/kalika/PycharmProjects/Privacy_SDN_Edge_IoT/PlanB/Experiment5/test5_5cm.csv\"\n",
    "df_all_new.to_csv(filename_csv)"
   ]
  },
  {
   "cell_type": "markdown",
   "id": "bc86a570",
   "metadata": {},
   "source": [
    "# Plot dataframe"
   ]
  },
  {
   "cell_type": "code",
   "execution_count": null,
   "id": "fc72766a",
   "metadata": {},
   "outputs": [],
   "source": [
    "print(len(df_all_new.index))\n",
    "time = np.array(range(len(df_all_new.index)))\n",
    "print(time)\n",
    "\n",
    "df_all_new['Time'] = time\n",
    "print(df_all_new.head)\n",
    "df_all_new['Time'] = df_all_new['Time'].astype(int) \n",
    "df_all_new['Bitrate'] = df_all_new['Bitrate'].astype(float) "
   ]
  },
  {
   "cell_type": "markdown",
   "id": "a134baf0",
   "metadata": {},
   "source": [
    "## Throughput"
   ]
  },
  {
   "cell_type": "code",
   "execution_count": null,
   "id": "c58de130",
   "metadata": {},
   "outputs": [],
   "source": [
    "# avergae throughput \n",
    "sumThroughput = df_all_new['Bitrate'].sum()\n",
    "avgSumThroughput = sumThroughput/len(time)\n",
    "print('avg Throughput :', avgSumThroughput)\n",
    "print('var Throughput :', df_all_new['Bitrate'].var())"
   ]
  },
  {
   "cell_type": "code",
   "execution_count": null,
   "id": "6855a84e",
   "metadata": {},
   "outputs": [],
   "source": []
  }
 ],
 "metadata": {
  "kernelspec": {
   "display_name": "Python 3",
   "language": "python",
   "name": "python3"
  },
  "language_info": {
   "codemirror_mode": {
    "name": "ipython",
    "version": 3
   },
   "file_extension": ".py",
   "mimetype": "text/x-python",
   "name": "python",
   "nbconvert_exporter": "python",
   "pygments_lexer": "ipython3",
   "version": "3.7.7"
  }
 },
 "nbformat": 4,
 "nbformat_minor": 5
}
