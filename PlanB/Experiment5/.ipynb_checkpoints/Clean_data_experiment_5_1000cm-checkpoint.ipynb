{
 "cells": [
  {
   "cell_type": "markdown",
   "id": "6a786e2f",
   "metadata": {},
   "source": [
    "# Clean Data of the results of experiment 5\n",
    "- This program is used to export the txt file to dataframe in python. The txt is captured from the experiment#5 in Github. File location : https://github.com/tawanmeow/privacy-sdn-logfile/tree/main/Experiment5"
   ]
  },
  {
   "cell_type": "code",
   "execution_count": null,
   "id": "130a8063",
   "metadata": {},
   "outputs": [],
   "source": [
    "# import library\n",
    "import numpy as np\n",
    "import pandas as pd\n",
    "import matplotlib.pyplot as plt\n",
    "import requests\n",
    "import io"
   ]
  },
  {
   "cell_type": "markdown",
   "id": "5fc30a44",
   "metadata": {},
   "source": [
    "## Input filename that you want to clean data"
   ]
  },
  {
   "cell_type": "code",
   "execution_count": null,
   "id": "f356385e",
   "metadata": {},
   "outputs": [],
   "source": [
    "# this pandas version dose not support directlly loading the file from url.\n",
    "url = 'https://github.com/tawanmeow/privacy-sdn-logfile/tree/main/Experiment5'\n",
    "filename = \"/Users/kalika/PycharmProjects/Privacy_SDN_Edge_IoT/PlanB/Experiment5/Questionmark/test5_1000cm.txt\"\n",
    "filename_csv = \"/Users/kalika/PycharmProjects/Privacy_SDN_Edge_IoT/PlanB/Experiment5/Questionmark/test5_1000cm.csv\"\n"
   ]
  },
  {
   "cell_type": "markdown",
   "id": "b6513464",
   "metadata": {},
   "source": [
    "## Functions for getting the throughput data from dataframe df"
   ]
  },
  {
   "cell_type": "code",
   "execution_count": null,
   "id": "bddb0240",
   "metadata": {},
   "outputs": [],
   "source": [
    "def getDataframeThru(df,start_row,measurement_interval,header_range):\n",
    "    '''\n",
    "    This functions will import the data from txt file and return the dataframe without the header of txt file.\n",
    "    Input: \n",
    "        measurement_interval = 30 (sec) : \n",
    "        header_range = 10 lines\n",
    "        start_row = 0 \n",
    "    Return: \n",
    "        df1t : dataframe of througput and jitter\n",
    "    '''\n",
    "    \n",
    "    df1 = df.drop(labels=range(start_row, header_range), axis=0)\n",
    "    df1t = df1.drop(labels=range(measurement_interval, len(df)), axis=0)\n",
    "    \n",
    "    return df1t"
   ]
  },
  {
   "cell_type": "code",
   "execution_count": null,
   "id": "cdc5c397",
   "metadata": {},
   "outputs": [],
   "source": [
    "def getDatafromTxT(filename, headerrange):\n",
    "    \"\"\"\n",
    "    Get dataframe from txt file:\n",
    "    filename : xxx.txt\n",
    "    headerrange : number of lines that needed to be removed. \n",
    "    \n",
    "    return : df : datafame type\n",
    "    \"\"\"\n",
    "    h = headerrange + 1\n",
    "    skip_1 = list(range(0,h, 1))\n",
    "    df = pd.read_csv(filename,\n",
    "        skiprows=skip_1,\n",
    "        header=None,\n",
    "        delimiter=' ',\n",
    "        skipinitialspace=True,\n",
    "        error_bad_lines=False)\n",
    "    return df\n",
    "    "
   ]
  },
  {
   "cell_type": "markdown",
   "id": "294472ee",
   "metadata": {},
   "source": [
    "## Run functions: "
   ]
  },
  {
   "cell_type": "code",
   "execution_count": null,
   "id": "2b8393f1",
   "metadata": {},
   "outputs": [],
   "source": [
    "headerrange = 10\n",
    "df = getDatafromTxT(filename, headerrange)\n",
    "print(df.head)"
   ]
  },
  {
   "cell_type": "code",
   "execution_count": null,
   "id": "86d48dbc",
   "metadata": {},
   "outputs": [],
   "source": [
    "## Find start row index of itteration\n",
    "def getStartEndID(df,start_data,end_data):\n",
    "    \"\"\"\n",
    "    to clean dataframe and return the data with new header\n",
    "    Input: \n",
    "        df : datafram without header of txt file \n",
    "    Output\n",
    "        strat_indices_list : start indices list\n",
    "    \"\"\"\n",
    "    # creating and passing series to new column\n",
    "    df[\"Start\"]= df[2].str.find(start_data)\n",
    "    df[\"End\"]= df[2].str.find(end_data)\n",
    "\n",
    "    index = df.index\n",
    "    strat_indices = index[df[\"Start\"]==0.0]\n",
    "    strat_indices_list = strat_indices.tolist()\n",
    "    end_indices = index[df[\"End\"]==0.0]\n",
    "    end_indices_list = end_indices.tolist()\n",
    "    \n",
    "    \n",
    "    return strat_indices_list, end_indices_list\n",
    "    "
   ]
  },
  {
   "cell_type": "code",
   "execution_count": null,
   "id": "b33a4aaf",
   "metadata": {},
   "outputs": [],
   "source": [
    "def getCleanData(df,strat_indices_list,end_indices_list):\n",
    "    \"\"\"\n",
    "    \n",
    "    \"\"\"\n",
    "    df_all = df.drop(labels=range(1, len(df)), axis=0) # create new df\n",
    "    start_row = 0\n",
    "    c = 0\n",
    "    for i in strat_indices_list: \n",
    "        \n",
    "        h = i\n",
    "        print('h =',h)\n",
    "        m = end_indices_list[c]\n",
    "        print('m =', m)\n",
    "        df1 = getDataframeThru(df,start_row,m,h)\n",
    "        print('df1 = ', df1)\n",
    "        result = pd.concat([df_all,df1])\n",
    "        df_all = result\n",
    "        c = c + 1\n",
    "        if i == 0:\n",
    "            \n",
    "            df_all = df_all.drop(labels=0, axis=0)\n",
    "        \n",
    "        \n",
    "    return df_all"
   ]
  },
  {
   "cell_type": "markdown",
   "id": "9ee75738",
   "metadata": {},
   "source": [
    "## Run functions"
   ]
  },
  {
   "cell_type": "code",
   "execution_count": null,
   "id": "02292816",
   "metadata": {},
   "outputs": [],
   "source": [
    "start_data = '0.00-1.00'\n",
    "end_data = '29.00-30.00'\n",
    "strat_indices_list, end_indices_list = getStartEndID(df,start_data,end_data)\n",
    "print('strat_indices_list: ', strat_indices_list)\n",
    "print('end_indices_list: ', end_indices_list)\n",
    "df_all = getCleanData(df,strat_indices_list,end_indices_list)"
   ]
  },
  {
   "cell_type": "markdown",
   "id": "4ff92191",
   "metadata": {},
   "source": [
    "print(df_all)"
   ]
  },
  {
   "cell_type": "code",
   "execution_count": null,
   "id": "e5451759",
   "metadata": {},
   "outputs": [],
   "source": [
    "# Replace new columns header\n",
    "\n",
    "df_all_new = df_all.drop(df_all.columns[[0,1,3, 5,7,9,11]], axis=1)  \n"
   ]
  },
  {
   "cell_type": "code",
   "execution_count": null,
   "id": "58d5cdbd",
   "metadata": {},
   "outputs": [],
   "source": [
    "df_all_new.rename({2 :'Interval', 4 : 'Transfer', 6 :'Bitrate', 8 :'Jitter', 10 :'Lost/Total Datagrams'}, axis=1, inplace=True)\n"
   ]
  },
  {
   "cell_type": "code",
   "execution_count": null,
   "id": "f01e8733",
   "metadata": {},
   "outputs": [],
   "source": [
    "print(df_all_new)"
   ]
  },
  {
   "cell_type": "code",
   "execution_count": null,
   "id": "8a4cc44f",
   "metadata": {},
   "outputs": [],
   "source": [
    "# export dataframe to csv \n",
    "df_all_new.to_csv(filename_csv)"
   ]
  },
  {
   "cell_type": "markdown",
   "id": "66b137ac",
   "metadata": {},
   "source": [
    "# Plot dataframe"
   ]
  },
  {
   "cell_type": "code",
   "execution_count": null,
   "id": "49d048ca",
   "metadata": {},
   "outputs": [],
   "source": [
    "print(df_all_new['Bitrate'])"
   ]
  },
  {
   "cell_type": "code",
   "execution_count": null,
   "id": "d532158f",
   "metadata": {},
   "outputs": [],
   "source": [
    "df_all_new['Bitrate'] = df_all_new['Bitrate'].astype(float) "
   ]
  },
  {
   "cell_type": "code",
   "execution_count": null,
   "id": "a50b3233",
   "metadata": {},
   "outputs": [],
   "source": [
    "print(len(df_all_new.index))\n",
    "time = np.array(range(len(df_all_new.index)))\n",
    "print(time)\n",
    "\n",
    "df_all_new['Time'] = time\n",
    "print(df_all_new.head)\n",
    "df_all_new['Time'] = df_all_new['Time'].astype(int) \n"
   ]
  },
  {
   "cell_type": "markdown",
   "id": "3de2104a",
   "metadata": {},
   "source": [
    "## Throughput"
   ]
  },
  {
   "cell_type": "code",
   "execution_count": null,
   "id": "584d5b0a",
   "metadata": {},
   "outputs": [],
   "source": [
    "# avergae throughput \n",
    "sumThroughput = df_all_new['Bitrate'].sum()\n",
    "avgSumThroughput = sumThroughput/len(time)\n",
    "print('avg Throughput :', avgSumThroughput)\n",
    "print('var Throughput :', df_all_new['Bitrate'].var())"
   ]
  },
  {
   "cell_type": "code",
   "execution_count": null,
   "id": "74de2d1c",
   "metadata": {},
   "outputs": [],
   "source": [
    "# Throughput \n",
    "ax = plt.gca()\n",
    "df_all_new.plot(kind='line', x='Time', y='Bitrate', ax =ax)\n",
    "plt.legend([\"Throughput\"]);\n",
    "ax.set_xlabel(\"Time (sec)\")\n",
    "ax.set_ylabel(\"Throughput (Mbits/s)\")\n",
    "avg_thr = np.ones(len(df_all_new.index),dtype = float)*avgSumThroughput\n",
    "s = pd.DataFrame(avg_thr, columns = ['AVG Throghput'])\n",
    "s.plot(ax=ax)\n",
    "plt.show()"
   ]
  },
  {
   "cell_type": "markdown",
   "id": "f9a39572",
   "metadata": {},
   "source": [
    "## Jitter"
   ]
  },
  {
   "cell_type": "code",
   "execution_count": null,
   "id": "5846301b",
   "metadata": {},
   "outputs": [],
   "source": [
    "df_all_new['Jitter'] = df_all_new['Jitter'].astype(float) "
   ]
  },
  {
   "cell_type": "code",
   "execution_count": null,
   "id": "4364457c",
   "metadata": {},
   "outputs": [],
   "source": [
    "# avergae jitter \n",
    "sumThroughput = df_all_new['Jitter'].sum()\n",
    "avgSumThroughput = sumThroughput/len(time)\n",
    "print('avg Jitter :', avgSumThroughput)\n",
    "print('var Jitter :', df_all_new['Jitter'].var())"
   ]
  },
  {
   "cell_type": "code",
   "execution_count": null,
   "id": "bb5b1c7d",
   "metadata": {},
   "outputs": [],
   "source": [
    "avg_thr = np.ones(len(df_all_new.index),dtype = float)*avgSumThroughput\n",
    "J = pd.DataFrame(avg_thr, columns = ['AVG Jitter'])\n",
    "\n",
    "ax2 = plt.gca()\n",
    "df_all_new.plot(kind='line', x='Time', y='Jitter', ax =ax2)\n",
    "plt.legend([\"Jitter\"]);\n",
    "ax2.set_xlabel(\"Time (sec)\")\n",
    "ax2.set_ylabel(\"Jitter (sec)\")\n",
    "J.plot(ax=ax2)\n",
    "plt.show()"
   ]
  },
  {
   "cell_type": "code",
   "execution_count": null,
   "id": "66657d31",
   "metadata": {},
   "outputs": [],
   "source": []
  }
 ],
 "metadata": {
  "kernelspec": {
   "display_name": "Python 3",
   "language": "python",
   "name": "python3"
  },
  "language_info": {
   "codemirror_mode": {
    "name": "ipython",
    "version": 3
   },
   "file_extension": ".py",
   "mimetype": "text/x-python",
   "name": "python",
   "nbconvert_exporter": "python",
   "pygments_lexer": "ipython3",
   "version": "3.7.7"
  }
 },
 "nbformat": 4,
 "nbformat_minor": 5
}
